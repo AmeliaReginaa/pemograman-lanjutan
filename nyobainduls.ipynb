{
  "nbformat": 4,
  "nbformat_minor": 0,
  "metadata": {
    "colab": {
      "provenance": [],
      "authorship_tag": "ABX9TyPZSwuLFAvjLaLZxpFWSYBm",
      "include_colab_link": true
    },
    "kernelspec": {
      "name": "python3",
      "display_name": "Python 3"
    },
    "language_info": {
      "name": "python"
    }
  },
  "cells": [
    {
      "cell_type": "markdown",
      "metadata": {
        "id": "view-in-github",
        "colab_type": "text"
      },
      "source": [
        "<a href=\"https://colab.research.google.com/github/AmeliaReginaa/pemograman-lanjutan/blob/main/nyobainduls.ipynb\" target=\"_parent\"><img src=\"https://colab.research.google.com/assets/colab-badge.svg\" alt=\"Open In Colab\"/></a>"
      ]
    },
    {
      "cell_type": "code",
      "execution_count": 1,
      "metadata": {
        "colab": {
          "base_uri": "https://localhost:8080/"
        },
        "id": "i5tmccze8714",
        "outputId": "feeac4b7-f000-4bfb-e790-689c02e4d748"
      },
      "outputs": [
        {
          "output_type": "stream",
          "name": "stdout",
          "text": [
            "seunghan comback lagi yaa\n"
          ]
        }
      ],
      "source": [
        "print(\"seunghan comback lagi yaa\")"
      ]
    },
    {
      "cell_type": "code",
      "source": [
        "print(\"RIIZE IS 7!!!\")"
      ],
      "metadata": {
        "colab": {
          "base_uri": "https://localhost:8080/"
        },
        "id": "rAnvFhZf9ZW2",
        "outputId": "7081fb8a-e1a5-49ba-82d7-79648dec77e8"
      },
      "execution_count": 2,
      "outputs": [
        {
          "output_type": "stream",
          "name": "stdout",
          "text": [
            "RIIZE IS 7!!!\n"
          ]
        }
      ]
    }
  ]
}