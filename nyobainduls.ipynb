{
  "nbformat": 4,
  "nbformat_minor": 0,
  "metadata": {
    "colab": {
      "provenance": [],
      "authorship_tag": "ABX9TyMacyOQm/8lyV4zXO/ITx/7",
      "include_colab_link": true
    },
    "kernelspec": {
      "name": "python3",
      "display_name": "Python 3"
    },
    "language_info": {
      "name": "python"
    }
  },
  "cells": [
    {
      "cell_type": "markdown",
      "metadata": {
        "id": "view-in-github",
        "colab_type": "text"
      },
      "source": [
        "<a href=\"https://colab.research.google.com/github/AmeliaReginaa/pemograman-lanjutan/blob/main/nyobainduls.ipynb\" target=\"_parent\"><img src=\"https://colab.research.google.com/assets/colab-badge.svg\" alt=\"Open In Colab\"/></a>"
      ]
    },
    {
      "cell_type": "code",
      "execution_count": 1,
      "metadata": {
        "colab": {
          "base_uri": "https://localhost:8080/"
        },
        "id": "i5tmccze8714",
        "outputId": "77d98f32-ad8f-4393-c3ef-b7c611ce49d4"
      },
      "outputs": [
        {
          "output_type": "stream",
          "name": "stdout",
          "text": [
            "halo tunggu hari rabu yaa\n"
          ]
        }
      ],
      "source": [
        "print(\"halo tunggu hari rabu yaa\")"
      ]
    },
    {
      "cell_type": "code",
      "source": [
        "print(\"aku suka kamu\")"
      ],
      "metadata": {
        "colab": {
          "base_uri": "https://localhost:8080/"
        },
        "id": "rAnvFhZf9ZW2",
        "outputId": "e703fca1-6634-4d1b-ae77-90b3b5ac4172"
      },
      "execution_count": 2,
      "outputs": [
        {
          "output_type": "stream",
          "name": "stdout",
          "text": [
            "aku suka kamu\n"
          ]
        }
      ]
    }
  ]
}