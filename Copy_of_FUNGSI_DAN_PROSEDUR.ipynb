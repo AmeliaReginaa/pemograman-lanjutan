{
  "nbformat": 4,
  "nbformat_minor": 0,
  "metadata": {
    "colab": {
      "provenance": [],
      "authorship_tag": "ABX9TyO8Rw4Iuf+9noBfRJWLk6RD",
      "include_colab_link": true
    },
    "kernelspec": {
      "name": "python3",
      "display_name": "Python 3"
    },
    "language_info": {
      "name": "python"
    }
  },
  "cells": [
    {
      "cell_type": "markdown",
      "metadata": {
        "id": "view-in-github",
        "colab_type": "text"
      },
      "source": [
        "<a href=\"https://colab.research.google.com/github/AmeliaReginaa/pemograman-lanjutan/blob/main/Copy_of_FUNGSI_DAN_PROSEDUR.ipynb\" target=\"_parent\"><img src=\"https://colab.research.google.com/assets/colab-badge.svg\" alt=\"Open In Colab\"/></a>"
      ]
    },
    {
      "cell_type": "markdown",
      "source": [
        "**FUNGSI **\n",
        "\n",
        "bagian dari program yang mampu mengerjakan tugas atau operasi tertentu di luar program utama. Fungsi akan mengembalikan nilai sesuai algoritma yang diberikan.  "
      ],
      "metadata": {
        "id": "trM0RnKnyKOC"
      }
    },
    {
      "cell_type": "markdown",
      "source": [
        "CONTOH FUNGSI MENGHITUNG KUADRAT"
      ],
      "metadata": {
        "id": "cY7zoW48x7ag"
      }
    },
    {
      "cell_type": "code",
      "execution_count": null,
      "metadata": {
        "id": "O8RxD2RCxvJu"
      },
      "outputs": [],
      "source": [
        "def kuadrat(x):\n",
        "  x2 = x*x\n",
        "  return x2"
      ]
    },
    {
      "cell_type": "markdown",
      "source": [
        "Fungsi di atas bernama `kuadrat` dan mengembalikan nilai kuadrat. Fungsi itu juga menerima satu parameter bernama `x`.\n",
        "\n"
      ],
      "metadata": {
        "id": "w8nG1tXgySwu"
      }
    },
    {
      "cell_type": "markdown",
      "source": [
        "Logika:\n",
        "1.\tProgram ini menggunakan fungsi bernama `kuadrat` yang menerima satu parameter `x`.  \n",
        "2.\tFungsi tersebut menghitung kuadrat dari `x` dengan rumus `x * x` dan mengembalikan hasilnya.  \n",
        "3.\tDi dalam program utama:\n",
        "-\tProgram meminta pengguna memasukkan nilai `n` (bilangan bulat).\n",
        "-\tFungsi `kuadrat` dipanggil dengan `n` sebagai parameter, dan hasilnya disimpan ke dalam variabel `n2`.  \n",
        "-\tProgram mencetak hasil kuadrat dari `n`.  \n"
      ],
      "metadata": {
        "id": "R3Tp7gzHyXqX"
      }
    },
    {
      "cell_type": "markdown",
      "source": [
        "Contoh Proses:\n",
        "Jika input pengguna adalah 4, maka\n",
        "-\tFungsi kuadrat(4) akan menghitung  4 * 4 = 16.  \n",
        "-\tHasil (16) dicetak.\n",
        "\n",
        "Contoh program lengkap:  \n",
        "\n"
      ],
      "metadata": {
        "id": "TLQmYoy7ygNo"
      }
    },
    {
      "cell_type": "code",
      "source": [
        "def kuadrat(x):\n",
        "    x2 = x * x\n",
        "    return x2\n",
        "\n",
        "n = int(input())\n",
        "n2 = kuadrat(n)\n",
        "print(n2)\n"
      ],
      "metadata": {
        "colab": {
          "base_uri": "https://localhost:8080/"
        },
        "id": "FQd9RW5AyQy4",
        "outputId": "40fc3683-74f0-43b7-a67b-b0b6680c24d3"
      },
      "execution_count": null,
      "outputs": [
        {
          "output_type": "stream",
          "name": "stdout",
          "text": [
            "12\n",
            "144\n"
          ]
        }
      ]
    },
    {
      "cell_type": "markdown",
      "source": [
        "Variabel di program utama tidak akan berubah meskipun di dalam fungsi menggunakan nama yang berbeda.\n",
        "\n",
        "Fungsi juga dapat menerima lebih dari satu parameter. Selain itu, fungsi dapat melakukan berbagai operasi, tetapi tetap tidak dapat mengubah variabel di program utama.  \n"
      ],
      "metadata": {
        "id": "VptzAO_9y0Zr"
      }
    },
    {
      "cell_type": "markdown",
      "source": [
        "**CONTOH FUNNGSI MENGHITUNG NILAI A^B**"
      ],
      "metadata": {
        "id": "Kf1JX57hy4Jj"
      }
    },
    {
      "cell_type": "code",
      "source": [
        "def pangkat(a, b):  # Asumsi b >= 0\n",
        "    c = 1\n",
        "    for i in range(b):\n",
        "        c *= a\n",
        "    return c\n"
      ],
      "metadata": {
        "id": "KOud-_GOy-vp"
      },
      "execution_count": null,
      "outputs": []
    },
    {
      "cell_type": "markdown",
      "source": [
        "**CATATAN**\n",
        "\n",
        "Hindari menggunakan array sebagai parameter fungsi jika belum memahami operasi khusus pada Python."
      ],
      "metadata": {
        "id": "lH5FljKo2Dul"
      }
    },
    {
      "cell_type": "markdown",
      "source": [
        "**PROSEDUR**"
      ],
      "metadata": {
        "id": "kCykXdXb0YW3"
      }
    },
    {
      "cell_type": "markdown",
      "source": [
        "Prosedur mirip dengan fungsi, tetapi tidak memiliki nilai kembalian (return).  "
      ],
      "metadata": {
        "id": "SrdfRXyY0cw3"
      }
    },
    {
      "cell_type": "markdown",
      "source": [
        "**CONTOH PROGRAM MENULISKAN MENU**"
      ],
      "metadata": {
        "id": "pcoUuEY90hbq"
      }
    },
    {
      "cell_type": "code",
      "source": [
        "print(\"Menu:\")\n",
        "print(\"1. Burger\")\n",
        "print(\"2. Ayam Geprek\")\n",
        "print(\"3. Mie Instan\")\n",
        "print(\"Masukkan pilihan: \")\n",
        "pilihan_makanan = int(input())\n",
        "\n",
        "# Pengulangan untuk menu minuman dan tambahan\n"
      ],
      "metadata": {
        "colab": {
          "base_uri": "https://localhost:8080/"
        },
        "id": "-1TJVsKV0mcS",
        "outputId": "2d029af4-318b-4801-d48c-fc378d19d32d"
      },
      "execution_count": null,
      "outputs": [
        {
          "name": "stdout",
          "output_type": "stream",
          "text": [
            "Menu:\n",
            "1. Burger\n",
            "2. Ayam Geprek\n",
            "3. Mie Instan\n",
            "Masukkan pilihan: \n",
            "3\n"
          ]
        }
      ]
    },
    {
      "cell_type": "markdown",
      "source": [
        "**PROGRAM UNTUK MENGHINDARI PENGULANGAN KODE **"
      ],
      "metadata": {
        "id": "3nI2cAS50upw"
      }
    },
    {
      "cell_type": "code",
      "source": [
        "def tulis_menu(pil1, pil2, pil3):\n",
        "    print(\"Menu:\")\n",
        "    print(\"1. \" + str(pil1))\n",
        "    print(\"2. \" + str(pil2))\n",
        "    print(\"3. \" + str(pil3))\n",
        "    print(\"Masukkan pilihan: \")\n",
        "\n",
        "tulis_menu(\"Burger\", \"Ayam Geprek\", \"Mie Instan\")\n",
        "pilihan_makanan = int(input())\n",
        "\n",
        "tulis_menu(\"Jus Alpukat\", \"Thai Tea\", \"Teh Tarik\")\n",
        "pilihan_minuman = int(input())\n",
        "\n",
        "tulis_menu(\"Kentang\", \"Krupuk\", \"Abon\")\n",
        "pilihan_tambahan = int(input())\n"
      ],
      "metadata": {
        "colab": {
          "base_uri": "https://localhost:8080/"
        },
        "id": "QeZ36dUg0g2E",
        "outputId": "e006b156-9475-4327-aa19-f44a28c0b9d6"
      },
      "execution_count": null,
      "outputs": [
        {
          "name": "stdout",
          "output_type": "stream",
          "text": [
            "Menu:\n",
            "1. Burger\n",
            "2. Ayam Geprek\n",
            "3. Mie Instan\n",
            "Masukkan pilihan: \n",
            "3\n",
            "Menu:\n",
            "1. Jus Alpukat\n",
            "2. Thai Tea\n",
            "3. Teh Tarik\n",
            "Masukkan pilihan: \n",
            "2\n",
            "Menu:\n",
            "1. Kentang\n",
            "2. Krupuk\n",
            "3. Abon\n",
            "Masukkan pilihan: \n",
            "3\n"
          ]
        }
      ]
    },
    {
      "cell_type": "markdown",
      "source": [
        "**LATIHAN MODUL 4**"
      ],
      "metadata": {
        "id": "TaV5F-Ei1Ny8"
      }
    },
    {
      "cell_type": "markdown",
      "source": [
        "**A. FUNGSI KUADRAT**\n",
        "**f(x) = x² - 2x + 5**\n",
        "\n",
        "Buat program yang menerima A dan B, kemudian menuliskan semua nilai f(A), f(A+1), ..., f(B).\n",
        "\n",
        "Catatan: Implementasikan fungsi yang menerima parameter nilai (x) dan mengembalikan f(x).\n",
        "\n"
      ],
      "metadata": {
        "id": "KNUSQvil1TnJ"
      }
    },
    {
      "cell_type": "code",
      "source": [
        "def f(x):\n",
        "    return x**2 - 2*x + 5\n",
        "\n",
        "# Menerima input dari pengguna\n",
        "A = int(input(\"Masukkan A: \"))\n",
        "B = int(input(\"Masukkan B: \"))\n",
        "\n",
        "# Menampilkan hasil f(A), f(A+1), ..., f(B)\n",
        "for x in range(A, B + 1):\n",
        "    print(f\"f({x}) = {f(x)}\")"
      ],
      "metadata": {
        "colab": {
          "base_uri": "https://localhost:8080/"
        },
        "id": "_pe3391j1gJL",
        "outputId": "bb2e5435-b028-4696-cb52-987a4fefe03f"
      },
      "execution_count": null,
      "outputs": [
        {
          "output_type": "stream",
          "name": "stdout",
          "text": [
            "Masukkan A: 3\n",
            "Masukkan B: 6\n",
            "f(3) = 8\n",
            "f(4) = 13\n",
            "f(5) = 20\n",
            "f(6) = 29\n"
          ]
        }
      ]
    },
    {
      "cell_type": "markdown",
      "source": [
        "**B. Buat fungsi Python bernama `validasi_sandi` untuk memvalidasi apakah sebuah kata sandi memenuhi syarat:**\n",
        "-\tMinimal 8 karakter.  \n",
        "-\tMengandung minimal satu huruf besar.  \n",
        "-\tMengandung minimal satu angka.  \n",
        "\n",
        "Tugas:\n",
        "-\tJika sandi valid, kembalikan nilai `True`.  \n",
        "-\tJika tidak valid, kembalikan nilai `False` dengan alasan apa yang tidak valid.\n"
      ],
      "metadata": {
        "id": "xa2sueBC3hfj"
      }
    },
    {
      "cell_type": "code",
      "source": [
        "def validasi_sandi(sandi):\n",
        "    # Memeriksa panjang sandi\n",
        "    if len(sandi) < 8:\n",
        "        return False, \"Kata sandi harus minimal 8 karakter.\"\n",
        "\n",
        "    # Memeriksa apakah ada huruf besar\n",
        "    if not any(char.isupper() for char in sandi):\n",
        "        return False, \"Kata sandi harus mengandung minimal satu huruf besar.\"\n",
        "\n",
        "    # Memeriksa apakah ada angka\n",
        "    if not any(char.isdigit() for char in sandi):\n",
        "        return False, \"Kata sandi harus mengandung minimal satu angka.\"\n",
        "\n",
        "    # Jika semua syarat terpenuhi\n",
        "    return True, \"Kata sandi valid.\"\n",
        "\n",
        "# Contoh penggunaan\n",
        "sandi_input = input(\"Masukkan kata sandi: \")\n",
        "valid, alasan = validasi_sandi(sandi_input)\n",
        "\n",
        "if valid:\n",
        "    print(\"Kata sandi valid.\")\n",
        "else:\n",
        "    print(\"Kata sandi tidak valid:\", alasan)"
      ],
      "metadata": {
        "colab": {
          "base_uri": "https://localhost:8080/"
        },
        "id": "4b4uO_mA4UnI",
        "outputId": "467ab73e-4b28-4175-81b3-a9c12fb67153"
      },
      "execution_count": null,
      "outputs": [
        {
          "output_type": "stream",
          "name": "stdout",
          "text": [
            "Masukkan kata sandi: Leejenoo3\n",
            "Kata sandi valid.\n"
          ]
        }
      ]
    },
    {
      "cell_type": "markdown",
      "source": [
        "**C. DETERMINAN MATRIKS**\n",
        "Buat fungsi Python bernama `determinant_2x2` yang menerima parameter berupa matriks 2x2 dan mengembalikan nilai determinannya.  "
      ],
      "metadata": {
        "id": "oUApwqeGEV0A"
      }
    },
    {
      "cell_type": "code",
      "source": [
        "def determinant_2x2(matrix):\n",
        "    # Memastikan bahwa input adalah matriks 2x2\n",
        "    if len(matrix) != 2 or len(matrix[0]) != 2 or len(matrix[1]) != 2:\n",
        "        raise ValueError(\"Input harus berupa matriks 2x2.\")\n",
        "\n",
        "    # Menghitung determinan\n",
        "    a = matrix[0][0]\n",
        "    b = matrix[0][1]\n",
        "    c = matrix[1][0]\n",
        "    d = matrix[1][1]\n",
        "\n",
        "    determinan = a * d - b * c\n",
        "    return determinan\n",
        "\n",
        "# Contoh penggunaan\n",
        "A = [[2, 3], [1, 4]]\n",
        "result = determinant_2x2(A)\n",
        "print(\"Determinan =\", result)"
      ],
      "metadata": {
        "colab": {
          "base_uri": "https://localhost:8080/"
        },
        "id": "u-YGXFxo4KBG",
        "outputId": "f91d8ba8-b83e-4189-e27e-283e1bfd2f93"
      },
      "execution_count": null,
      "outputs": [
        {
          "output_type": "stream",
          "name": "stdout",
          "text": [
            "Determinan = 5\n"
          ]
        }
      ]
    }
  ]
}