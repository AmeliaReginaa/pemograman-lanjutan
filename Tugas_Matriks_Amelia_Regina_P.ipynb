{
  "nbformat": 4,
  "nbformat_minor": 0,
  "metadata": {
    "colab": {
      "provenance": [],
      "authorship_tag": "ABX9TyN/B2EzN8wJUdVtxAzkbgFv",
      "include_colab_link": true
    },
    "kernelspec": {
      "name": "python3",
      "display_name": "Python 3"
    },
    "language_info": {
      "name": "python"
    }
  },
  "cells": [
    {
      "cell_type": "markdown",
      "metadata": {
        "id": "view-in-github",
        "colab_type": "text"
      },
      "source": [
        "<a href=\"https://colab.research.google.com/github/AmeliaReginaa/pemograman-lanjutan/blob/main/Tugas_Matriks_Amelia_Regina_P.ipynb\" target=\"_parent\"><img src=\"https://colab.research.google.com/assets/colab-badge.svg\" alt=\"Open In Colab\"/></a>"
      ]
    },
    {
      "cell_type": "markdown",
      "source": [
        "Dideklarasikan 2 buah matriks, misalnya M dan MTranspose\n",
        "• MTranspose menampung hasil transpose dari M\n",
        "• Ukuran baris M = ukuran kolom MTranspose\n",
        "• Ukuran kolom M = ukuran baris Mtranspose\n",
        "• Mtranspose[i][j] = M[j][i]\n"
      ],
      "metadata": {
        "id": "gItPJ2514lzm"
      }
    },
    {
      "cell_type": "code",
      "execution_count": 2,
      "metadata": {
        "colab": {
          "base_uri": "https://localhost:8080/"
        },
        "id": "FTOwXUHt4bwI",
        "outputId": "b3088676-497e-42a6-c155-eab38bfebd07"
      },
      "outputs": [
        {
          "output_type": "stream",
          "name": "stdout",
          "text": [
            "Matriks Asli (M):\n",
            "[1, 2, 7]\n",
            "[4, 5, 6]\n",
            "[7, 8, 9]\n",
            "\n",
            "Matriks Transpose (MTranspose):\n",
            "[1, 4, 7]\n",
            "[2, 5, 8]\n",
            "[7, 6, 9]\n"
          ]
        }
      ],
      "source": [
        "# Program untuk melakukan transpose matriks\n",
        "\n",
        "# Deklarasi matriks awal (M)\n",
        "M = [\n",
        "    [1, 2, 7],\n",
        "    [4, 5, 6],\n",
        "    [7, 8, 9]\n",
        "]\n",
        "\n",
        "# Mendapatkan ukuran baris dan kolom matriks M\n",
        "baris = len(M)\n",
        "kolom = len(M[0])\n",
        "\n",
        "# Inisialisasi matriks transpose (MTranspose) dengan ukuran terbalik\n",
        "MTranspose = [[0 for _ in range(baris)] for _ in range(kolom)]\n",
        "\n",
        "# Mengisi matriks transpose\n",
        "for i in range(baris):\n",
        "    for j in range(kolom):\n",
        "        MTranspose[j][i] = M[i][j]\n",
        "\n",
        "# Menampilkan hasil\n",
        "print(\"Matriks Asli (M):\")\n",
        "for row in M:\n",
        "    print(row)\n",
        "\n",
        "print(\"\\nMatriks Transpose (MTranspose):\")\n",
        "for row in MTranspose:\n",
        "    print(row)"
      ]
    },
    {
      "cell_type": "code",
      "source": [
        "# Mendeklarasikan matriks 5x5\n",
        "M = [\n",
        "    [1, 2, 3, 4, 5],\n",
        "    [6, 7, 8, 9, 10],\n",
        "    [11, 12, 13, 14, 15],\n",
        "    [16, 17, 18, 19, 20],\n",
        "    [21, 22, 23, 24, 25]\n",
        "]\n",
        "\n",
        "# Membuat matriks transpose dengan ukuran yang sesuai\n",
        "MTranspose = [[0 for _ in range(len(M))] for _ in range(len(M[0]))]\n",
        "\n",
        "# Menghitung transpose\n",
        "for i in range(len(M)):\n",
        "    for j in range(len(M[0])):\n",
        "        MTranspose[j][i] = M[i][j]\n",
        "\n",
        "# Menampilkan matriks asli\n",
        "print(\"Matriks M:\")\n",
        "for row in M:\n",
        "    print(row)\n",
        "\n",
        "# Menampilkan matriks transpose\n",
        "print(\"\\nMatriks Transpose M:\")\n",
        "for row in MTranspose:\n",
        "    print(row)"
      ],
      "metadata": {
        "colab": {
          "base_uri": "https://localhost:8080/"
        },
        "id": "U1MOcDL_5i-N",
        "outputId": "301654cf-cf06-43ad-bc1e-341467642609"
      },
      "execution_count": 1,
      "outputs": [
        {
          "output_type": "stream",
          "name": "stdout",
          "text": [
            "Matriks M:\n",
            "[1, 2, 3, 4, 5]\n",
            "[6, 7, 8, 9, 10]\n",
            "[11, 12, 13, 14, 15]\n",
            "[16, 17, 18, 19, 20]\n",
            "[21, 22, 23, 24, 25]\n",
            "\n",
            "Matriks Transpose M:\n",
            "[1, 6, 11, 16, 21]\n",
            "[2, 7, 12, 17, 22]\n",
            "[3, 8, 13, 18, 23]\n",
            "[4, 9, 14, 19, 24]\n",
            "[5, 10, 15, 20, 25]\n"
          ]
        }
      ]
    }
  ]
}