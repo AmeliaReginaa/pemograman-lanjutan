{
  "nbformat": 4,
  "nbformat_minor": 0,
  "metadata": {
    "colab": {
      "provenance": [],
      "name": "pertemuan.1_Amelia.ipynb",
      "include_colab_link": true
    },
    "kernelspec": {
      "name": "python3",
      "display_name": "Python 3"
    },
    "language_info": {
      "name": "python"
    }
  },
  "cells": [
    {
      "cell_type": "markdown",
      "metadata": {
        "id": "view-in-github",
        "colab_type": "text"
      },
      "source": [
        "<a href=\"https://colab.research.google.com/github/AmeliaReginaa/pemograman-lanjutan/blob/main/pertemuan_1_Amelia.ipynb\" target=\"_parent\"><img src=\"https://colab.research.google.com/assets/colab-badge.svg\" alt=\"Open In Colab\"/></a>"
      ]
    },
    {
      "cell_type": "markdown",
      "source": [
        "#🤸🏻‍♀️ EKSPLORASI PRIBADI DI KELAS ✨"
      ],
      "metadata": {
        "id": "N0U2Qjks8P9F"
      }
    },
    {
      "cell_type": "code",
      "execution_count": null,
      "metadata": {
        "id": "itmMcxv88OIm",
        "colab": {
          "base_uri": "https://localhost:8080/"
        },
        "outputId": "a4bc3630-01c4-4c07-ce4b-631b481f4b71"
      },
      "outputs": [
        {
          "output_type": "stream",
          "name": "stdout",
          "text": [
            "ini program"
          ]
        }
      ],
      "source": [
        "print(\"ini program\", end=\"\") #(2)"
      ]
    },
    {
      "cell_type": "code",
      "source": [
        "print(\" pertama saya\") #(3)"
      ],
      "metadata": {
        "id": "ni0BJ513E85C"
      },
      "execution_count": null,
      "outputs": []
    },
    {
      "cell_type": "code",
      "source": [
        "print(\"Dengan\", \"koma\")"
      ],
      "metadata": {
        "id": "vrcrmibhFBmA"
      },
      "execution_count": null,
      "outputs": []
    },
    {
      "cell_type": "code",
      "source": [
        "print(\"Dengan\" + \"plus\")\n",
        "variabel = 5"
      ],
      "metadata": {
        "colab": {
          "base_uri": "https://localhost:8080/"
        },
        "id": "miFq33-SFEKP",
        "outputId": "474c2421-cdec-45ef-b96a-6fd50285760f"
      },
      "execution_count": null,
      "outputs": [
        {
          "output_type": "stream",
          "name": "stdout",
          "text": [
            "Denganplus\n"
          ]
        }
      ]
    },
    {
      "cell_type": "code",
      "source": [
        "S = input(\"Masukan kalimat: \") #(1)\n",
        "print(\"Anda memasukkan kalimat: \" +S) #(2)"
      ],
      "metadata": {
        "id": "k1j5nHyoFIdw"
      },
      "execution_count": null,
      "outputs": []
    },
    {
      "cell_type": "code",
      "source": [
        "N = int (input(\"Masukan sebuah angka: \")) #(3)\n",
        "print(\"Jika angka anda ditambah 5, hasilnya: \"+str(N +5)) #(4)"
      ],
      "metadata": {
        "id": "8KOqjpk_FL59"
      },
      "execution_count": null,
      "outputs": []
    },
    {
      "cell_type": "code",
      "source": [
        "#Cari modulo dan satunya\n",
        "x = 1000\n",
        "y = 2\n",
        "x//y\n",
        "print(x//y)\n"
      ],
      "metadata": {
        "id": "_SGPJ1nvFPBS"
      },
      "execution_count": null,
      "outputs": []
    },
    {
      "cell_type": "code",
      "source": [
        "# beda lagi\n",
        "if 4> 0:\n",
        "    4 <= 0  print(str(4) + \"adalah bilangan positif\")\n",
        "else: #\n",
        "    print(str(4) + \"adalah bilangan bukan positif\")"
      ],
      "metadata": {
        "id": "gpybE5SUFT_n"
      },
      "execution_count": null,
      "outputs": []
    },
    {
      "cell_type": "markdown",
      "source": [
        "- Interpretasi coding:\n",
        "\n",
        "- Interpretasi Hasil:"
      ],
      "metadata": {
        "id": "f1J9LJyv9-YC"
      }
    },
    {
      "cell_type": "markdown",
      "source": [
        "#🧠 LATIHAN SOAL DI KELAS ⏱️"
      ],
      "metadata": {
        "id": "KEGjH0_P9D1-"
      }
    },
    {
      "cell_type": "markdown",
      "source": [
        "Problem (1) Kalkulator Sederhana"
      ],
      "metadata": {
        "id": "nt7-fY7s9PgC"
      }
    },
    {
      "cell_type": "code",
      "source": [],
      "metadata": {
        "id": "h7si6sBj9Mr4"
      },
      "execution_count": null,
      "outputs": []
    },
    {
      "cell_type": "markdown",
      "source": [
        "- Interpretasi coding:\n",
        "\n",
        "- Interpretasi Hasil:"
      ],
      "metadata": {
        "id": "Wou8YKfJ9lvY"
      }
    },
    {
      "cell_type": "markdown",
      "source": [
        "Problem (2) Bilangan Ganjil"
      ],
      "metadata": {
        "id": "Eucg6DUK9fgA"
      }
    },
    {
      "cell_type": "code",
      "source": [],
      "metadata": {
        "id": "9uWMEZpP9hlB"
      },
      "execution_count": null,
      "outputs": []
    },
    {
      "cell_type": "markdown",
      "source": [
        "- Interpretasi coding:\n",
        "\n",
        "- Interpretasi Hasil:"
      ],
      "metadata": {
        "id": "fM9Fo97_93Ni"
      }
    },
    {
      "cell_type": "markdown",
      "source": [
        "#🏆 POST TEST 🎯"
      ],
      "metadata": {
        "id": "J_75vTSXKFGE"
      }
    },
    {
      "cell_type": "markdown",
      "source": [
        "Problem (1)"
      ],
      "metadata": {
        "id": "twhHfrqiKSfV"
      }
    },
    {
      "cell_type": "code",
      "source": [
        "# H01_2C2230019_01.py\n",
        "# Program untuk menentukan barang dengan keuntungan terbesar\n",
        "\n",
        "# Input harga dasar dan harga jual barang A\n",
        "harga_dasar_A = int(input(\"Masukkan harga dasar barang A: \"))\n",
        "harga_jual_A = int(input(\"Masukkan harga jual barang A: \"))\n",
        "\n",
        "# Input harga dasar dan harga jual barang B\n",
        "harga_dasar_B = int(input(\"Masukkan harga dasar barang B: \"))\n",
        "harga_jual_B = int(input(\"Masukkan harga jual barang B: \"))\n",
        "\n",
        "# Input harga dasar dan harga jual barang C\n",
        "harga_dasar_C = int(input(\"Masukkan harga dasar barang C: \"))\n",
        "harga_jual_C = int(input(\"Masukkan harga jual barang C: \"))\n",
        "\n",
        "# Hitung keuntungan untuk masing-masing barang\n",
        "keuntungan_A = harga_jual_A - harga_dasar_A\n",
        "keuntungan_B = harga_jual_B - harga_dasar_B\n",
        "keuntungan_C = harga_jual_C - harga_dasar_C\n",
        "\n",
        "# Tentukan barang dengan keuntungan terbesar\n",
        "if keuntungan_A > keuntungan_B and keuntungan_A > keuntungan_C:\n",
        "    print(\"Barang yang harus ditawarkan adalah barang A\")\n",
        "elif keuntungan_B > keuntungan_A and keuntungan_B > keuntungan_C:\n",
        "    print(\"Barang yang harus ditawarkan adalah barang B\")\n",
        "else:\n",
        "    print(\"Barang yang harus ditawarkan adalah barang C\")"
      ],
      "metadata": {
        "id": "hOI8Gls9KV05"
      },
      "execution_count": null,
      "outputs": []
    },
    {
      "cell_type": "code",
      "source": [
        "#Fungsi untuk menentukan kelas berdasarkan dengan NRP\n",
        "def kelas_mahasiswa(nrp_akhir):\n",
        "  nrp_akhir = int(nrp_akhir)\n",
        "\n",
        "  # menentukan kelas berdasarkan rentang NRP\n",
        "  if 1 <= nrp_akhir <= 100:\n",
        "    return \"K1\" if nrp_akhir % 2 != 0 else \"K2\"\n",
        "  elif 101 <= nrp_akhir <= 200:\n",
        "    return \"K3\" if nrp_akhir % 2 != 0 else \"K4\"\n",
        "  elif 201 <= nrp_akhir <= 300:\n",
        "    return \"K5\" if nrp_akhir % 2 != 0 else \"K6\"\n",
        "  elif nrp_akhir > 300:\n",
        "    return \"K7\" if nrp_akhir % 2 != 0 else \"K8\"\n",
        "  else:\n",
        "    return \"NRP Tidak Valid\"\n",
        "\n",
        "# input 3 digit terakhir NRP mahasiswa\n",
        "nrp = input(\"Masukkan 3 digit terakhir NRP: \")\n",
        "kelas = kelas_mahasiswa(nrp)\n",
        "\n",
        "# menampilkan hasil\n",
        "print(f\"Mahasiswa dengan NRP {nrp} berada di kelas {kelas}.\")"
      ],
      "metadata": {
        "id": "cWwCr9gPFcRv"
      },
      "execution_count": null,
      "outputs": []
    },
    {
      "cell_type": "markdown",
      "source": [
        "- Interpretasi coding:\n",
        "- Interpretasi hasil:"
      ],
      "metadata": {
        "id": "t9x---59KWVI"
      }
    },
    {
      "cell_type": "markdown",
      "source": [
        "📌Catatan:\n",
        "  - Notebook python ini dibuat untuk memudahkan temen-temen belajar ngoding dan pengumpulan tugas.\n",
        "  - Silakan download notebook ini lalu upload di Google Collab milik kalian agar format `pertemuan`, `topik pertemuan`,\n",
        "`tanggal`, `deskripsi pembahasan materi`, `baris coding` dan `interpretasi` bisa disesuaikan dengan kebutuhan teman-teman.\n",
        "\n",
        "  - Interpretasi coding dan hasil dimaksudkan agar teman-teman semakin memahami apa yang dipelajari.\n",
        "\n",
        "  - Deskripsi pembahasan materi dimaksudkan agar teman-teman semakin memahami apa fokus yang dipelajari.\n",
        "\n",
        "  - Tulisan di setiap sebelum baris code disebut `markdown`. Ada beberapa jenis simbol yang memudahkan kepenulisan `markdown` kita, yaitu seperti : untuk mengatur ukuran tulisan biasanya tulisan pada header menggunakan ini`#`, `##`, `###`, untuk membuat pointer menggunakan ini `-`, untuk membuat tulisan ter-highlight menggunakan ini *` `* , untuk short-cut membuat tulisan jadi **bold** gunakan ini `** **`, dan untuk *tulisan miring* gunakan ini `* *` .\n",
        "\n",
        "  - Semangat belajar! 🌟✨\n",
        "\n",
        "©️ LABORATORIUM SAINS DATA 2024"
      ],
      "metadata": {
        "id": "D-tRQnbQK69l"
      }
    }
  ]
}