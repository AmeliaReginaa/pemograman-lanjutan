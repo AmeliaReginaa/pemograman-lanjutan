{
  "nbformat": 4,
  "nbformat_minor": 0,
  "metadata": {
    "colab": {
      "provenance": [],
      "include_colab_link": true
    },
    "kernelspec": {
      "name": "python3",
      "display_name": "Python 3"
    },
    "language_info": {
      "name": "python"
    }
  },
  "cells": [
    {
      "cell_type": "markdown",
      "metadata": {
        "id": "view-in-github",
        "colab_type": "text"
      },
      "source": [
        "<a href=\"https://colab.research.google.com/github/AmeliaReginaa/pemograman-lanjutan/blob/main/Array_Amelia_2C2230019.ipynb\" target=\"_parent\"><img src=\"https://colab.research.google.com/assets/colab-badge.svg\" alt=\"Open In Colab\"/></a>"
      ]
    },
    {
      "cell_type": "markdown",
      "source": [
        "#**🖥️👩🏻‍💻PRAKTIKUM PEMROGRAMAN LANJUT🔥**\n",
        "##**Pertemuan (3) ARRAY (ARRAY) - Senin, 28 Oktober 2024**\n",
        "\n",
        "👤 Nama: Amelia R / NRP: 2C2230019 / Kelas: III/A Sains Data\n",
        "\n",
        "💬Deskripsi Pembahasan Materi ARRAY:\n",
        "\n",
        "ARRAY\n",
        "\n",
        "1.1. DEFINISI ARRAY\n",
        "variabel dengan satu buah nama, tetapi mengandung banyak nilai. Akses nilai hanya bisa dilakukan dengan indeks\n",
        "\n",
        "1.2. DEKLARASI ARRAY\n",
        "Karena array juga merupakan sebuah variabel, maka array juga memerlukan deklarasi seperti variabel lainnya.\n",
        "Contoh : x = [0 for i in range(n)] membuat array berukuran n dengan isi 0.\n",
        "\n",
        "1.3. ARRAY DAN VARIABEL\n",
        "Suatu array dapat kita anggap sebagai variabel, sehingga segala jenis operasi pada variabel juga berlaku pada array.\n",
        "Contoh :\n",
        "tabel = [0 for i in range(10)]\n",
        "\n",
        "1.4. STRING\n",
        "String dapat dianggap sebagai array of\n",
        "character, namun tipe data string memiliki karakteristik yang berbeda dengan array of character yaitustring merupakan tipe data immutable. Artinya, string tidak dapat diubah nilainya setelah dideklarasikan.\n",
        "5.\n",
        "\n"
      ],
      "metadata": {
        "id": "_bN6_LxQCJZT"
      }
    },
    {
      "cell_type": "markdown",
      "source": [
        "#🤸🏻‍♀️ EKSPLORASI PRIBADI DI KELAS ✨"
      ],
      "metadata": {
        "id": "N0U2Qjks8P9F"
      }
    },
    {
      "cell_type": "markdown",
      "source": [
        "SUSUNAN (LIST) NumPy"
      ],
      "metadata": {
        "id": "AleyzkutO3aU"
      }
    },
    {
      "cell_type": "code",
      "execution_count": 11,
      "metadata": {
        "id": "itmMcxv88OIm",
        "colab": {
          "base_uri": "https://localhost:8080/"
        },
        "outputId": "02ce181f-7a55-4f4f-fd7e-746803db4b67"
      },
      "outputs": [
        {
          "output_type": "stream",
          "name": "stdout",
          "text": [
            "['Ford', 'Volvo', 'BMW']\n"
          ]
        }
      ],
      "source": [
        "cars = [\"Ford\", \"Volvo\", \"BMW\"]\n",
        "print(cars)"
      ]
    },
    {
      "cell_type": "markdown",
      "source": [
        "MENGAKSES ELEMEN ARRAY (Merujuk kepada nomor indeks)"
      ],
      "metadata": {
        "id": "80QdwqscRd1c"
      }
    },
    {
      "cell_type": "code",
      "source": [
        "\n",
        "cars = [\"Ford\", \"Volvo\", \"BMW\"]\n",
        "x = cars[0], [1]\n",
        "print(x)"
      ],
      "metadata": {
        "colab": {
          "base_uri": "https://localhost:8080/"
        },
        "id": "fJVVjasSRiAz",
        "outputId": "dfc5030f-e518-4c22-d970-50f159a184b9"
      },
      "execution_count": 13,
      "outputs": [
        {
          "output_type": "stream",
          "name": "stdout",
          "text": [
            "('Ford', [1])\n"
          ]
        }
      ]
    },
    {
      "cell_type": "code",
      "source": [
        "cars = [\"Ford\", \"Volvo\", \"BMW\"]\n",
        "x = cars[0] = \"Toyota\"\n",
        "print(cars)"
      ],
      "metadata": {
        "colab": {
          "base_uri": "https://localhost:8080/"
        },
        "id": "Wv9_sKUTUz4q",
        "outputId": "ecc92b86-509e-4fee-9aff-2afc73aa069d"
      },
      "execution_count": 14,
      "outputs": [
        {
          "output_type": "stream",
          "name": "stdout",
          "text": [
            "['Toyota', 'Volvo', 'BMW']\n"
          ]
        }
      ]
    },
    {
      "cell_type": "markdown",
      "source": [
        "PANJANG SEBUAH ARRAY :\n",
        "gunakan len(), metode ini untuk mengembalikan panjang suatu array"
      ],
      "metadata": {
        "id": "UP7pme71U-aq"
      }
    },
    {
      "cell_type": "code",
      "source": [
        "cars = [\"Ford\", \"Volvo\", \"BMW\"]\n",
        "x = len(cars)\n",
        "print(x)"
      ],
      "metadata": {
        "colab": {
          "base_uri": "https://localhost:8080/"
        },
        "id": "it1E92jQR7X7",
        "outputId": "10dd9707-bf4a-432f-a564-9e2a355ee23e"
      },
      "execution_count": 15,
      "outputs": [
        {
          "output_type": "stream",
          "name": "stdout",
          "text": [
            "3\n"
          ]
        }
      ]
    },
    {
      "cell_type": "code",
      "source": [
        "PANJANG ARRAY MENGGUNAKAN PERULANGAN"
      ],
      "metadata": {
        "id": "mRVCn5KPTJcc"
      },
      "execution_count": null,
      "outputs": []
    },
    {
      "cell_type": "code",
      "source": [
        "cars = [\"Ford\", \"Volvo\", \"BMW\"]\n",
        "for x in cars:\n",
        "  print(x)"
      ],
      "metadata": {
        "colab": {
          "base_uri": "https://localhost:8080/"
        },
        "id": "hSUKwM9lTRkG",
        "outputId": "68d91155-9dde-4399-ac74-26c73c56ad12"
      },
      "execution_count": 17,
      "outputs": [
        {
          "output_type": "stream",
          "name": "stdout",
          "text": [
            "Ford\n",
            "Volvo\n",
            "BMW\n"
          ]
        }
      ]
    },
    {
      "cell_type": "markdown",
      "source": [
        "MENAMBAHKAN ELEMEN KE DALAM ARRAY APPEND()"
      ],
      "metadata": {
        "id": "UEsk6WiPWIc1"
      }
    },
    {
      "cell_type": "code",
      "source": [
        "cars = [\"Ford\", \"Volvo\", \"BMW\"]\n",
        "cars.append(\"Honda\")\n",
        "print(cars)"
      ],
      "metadata": {
        "colab": {
          "base_uri": "https://localhost:8080/"
        },
        "id": "SfOgO9_1WLXR",
        "outputId": "88cecc35-106e-418b-a66b-993a1b4b6fbc"
      },
      "execution_count": 19,
      "outputs": [
        {
          "output_type": "stream",
          "name": "stdout",
          "text": [
            "['Ford', 'Volvo', 'BMW', 'Honda']\n"
          ]
        }
      ]
    },
    {
      "cell_type": "markdown",
      "source": [
        "MENGHAPUS ELEMEN ARRAY (MENGGUNAKAN POP)"
      ],
      "metadata": {
        "id": "94_wfI3wWkJW"
      }
    },
    {
      "cell_type": "code",
      "source": [
        "cars = [\"Ford\", \"Volvo\", \"BMW\"]\n",
        "\n",
        "cars.pop(1)\n",
        "\n",
        "print(cars)"
      ],
      "metadata": {
        "colab": {
          "base_uri": "https://localhost:8080/"
        },
        "id": "vrHRsphgWplp",
        "outputId": "20c448d7-a9dd-46b5-d40a-672b60779d7d"
      },
      "execution_count": 20,
      "outputs": [
        {
          "output_type": "stream",
          "name": "stdout",
          "text": [
            "['Ford', 'BMW']\n"
          ]
        }
      ]
    },
    {
      "cell_type": "markdown",
      "source": [
        "BISA PAKAI REMOVE() hanya menghampus kemunculan yang ditentukan"
      ],
      "metadata": {
        "id": "IM3fVCUWXCGa"
      }
    },
    {
      "cell_type": "code",
      "source": [
        "cars = [\"Ford\", \"Volvo\", \"BMW\"]\n",
        "\n",
        "cars.remove(\"Volvo\")\n",
        "\n",
        "print(cars)"
      ],
      "metadata": {
        "colab": {
          "base_uri": "https://localhost:8080/"
        },
        "id": "JpSMzS-oXFbs",
        "outputId": "212457f4-95b7-4863-9245-08481be6e146"
      },
      "execution_count": 21,
      "outputs": [
        {
          "output_type": "stream",
          "name": "stdout",
          "text": [
            "['Ford', 'BMW']\n"
          ]
        }
      ]
    },
    {
      "cell_type": "markdown",
      "source": [
        "- Interpretasi coding:\n",
        "\n",
        "- Interpretasi Hasil:"
      ],
      "metadata": {
        "id": "f1J9LJyv9-YC"
      }
    },
    {
      "cell_type": "markdown",
      "source": [
        "#🧠 LATIHAN SOAL DI KELAS ⏱️"
      ],
      "metadata": {
        "id": "KEGjH0_P9D1-"
      }
    },
    {
      "cell_type": "markdown",
      "source": [
        "1. REVERS\n",
        "Buatlah program yang menerima N buah bilangan dan menuliskan kembali bilangan-bilangan tersebut,\n",
        "namun dengan urutan terbalik."
      ],
      "metadata": {
        "id": "vSL0_pnTZsiR"
      }
    },
    {
      "cell_type": "code",
      "source": [
        "# memasukan jumlah bilangan\n",
        "N = int(input(\"Masukkan N: \"))\n",
        "\n",
        "# Buat array untuk menyimpan bilangan\n",
        "bilangan = []\n",
        "\n",
        "for i in range(N):\n",
        "    angka = int(input(f\"Masukkan bilangan ke-{i+1}: \"))\n",
        "    bilangan.append(angka)\n",
        "\n",
        "bilangan.reverse()\n",
        "print(\"Hasil dibalik:\", *bilangan)\n"
      ],
      "metadata": {
        "id": "h7si6sBj9Mr4",
        "colab": {
          "base_uri": "https://localhost:8080/"
        },
        "outputId": "b5e33216-5415-46c5-daae-e57cf10ace38"
      },
      "execution_count": 22,
      "outputs": [
        {
          "output_type": "stream",
          "name": "stdout",
          "text": [
            "Masukkan N: 5\n",
            "Masukkan bilangan ke-1: 5\n",
            "Masukkan bilangan ke-2: 2\n",
            "Masukkan bilangan ke-3: 1\n",
            "Masukkan bilangan ke-4: 6\n",
            "Masukkan bilangan ke-5: 3\n",
            "Hasil dibalik: 3 6 1 2 5\n"
          ]
        }
      ]
    },
    {
      "cell_type": "markdown",
      "source": [],
      "metadata": {
        "id": "dGL1lj3mXkqS"
      }
    },
    {
      "cell_type": "markdown",
      "source": [
        "- Interpretasi coding:\n",
        "1. Program meminta jumlah bilangan yang akan dimasukkan (N).\n",
        "2. Program menggunakan loop untuk mengisi array bilangan sebanyak N bilangan.\n",
        "3. reverse() digunakan untuk membalikkan urutan bilangan dalam array.\n",
        "4. Hasil ditampilkan dengan urutan terbalik menggunakan print(\"Hasil dibalik:\", *bilangan).\n",
        "\n",
        "- Interpretasi Hasil:\n",
        "1. Jika pengguna memasukan 5 bilangan '5', '2', '1', '6', '3'\n",
        "2. Maka akan menghasilkan outpu terbalik dari bilangan yang dimasukan"
      ],
      "metadata": {
        "id": "Wou8YKfJ9lvY"
      }
    },
    {
      "cell_type": "markdown",
      "source": [
        "Problem (2) ANAGRAM\n",
        "Diberikan dua array A dan B. Buatlah sebuah program yang dapat memeriksa apakah B merupakan anagram dari A. Asumsikan elemen pada array A dan B maksimal 10. Array B didefinisikan\n",
        "sebagai anagram dari array A bila elemen-elemen di array A dapat ditukar-tukar sehingga menghasilkan\n",
        "array B."
      ],
      "metadata": {
        "id": "Eucg6DUK9fgA"
      }
    },
    {
      "cell_type": "code",
      "source": [
        "# Meminta input jumlah elemen dan elemen untuk A\n",
        "nA = int(input(\"Masukkan banyaknya elemen A: \"))\n",
        "A = [int(input(f\"Masukkan elemen A ke-{i+1}: \")) for i in range(nA)]\n",
        "\n",
        "# Meminta input jumlah elemen dan elemen untuk B\n",
        "nB = int(input(\"Masukkan banyaknya elemen B: \"))\n",
        "B = [int(input(f\"Masukkan elemen B ke-{i+1}: \")) for i in range(nB)]\n",
        "\n",
        "# Cek apakah A dan B memiliki jumlah elemen yang sama dan frekuensi elemen yang sama\n",
        "if nA == nB and sorted(A) == sorted(B):\n",
        "    print(\"B adalah anagram dari A\")\n",
        "else:\n",
        "    print(\"B bukan anagram dari A\")"
      ],
      "metadata": {
        "id": "9uWMEZpP9hlB",
        "colab": {
          "base_uri": "https://localhost:8080/"
        },
        "outputId": "50cb66d7-e88c-4b7e-c4ff-ffccd569bbb4"
      },
      "execution_count": 23,
      "outputs": [
        {
          "output_type": "stream",
          "name": "stdout",
          "text": [
            "Masukkan banyaknya elemen A: 2\n",
            "Masukkan elemen A ke-1: 1\n",
            "Masukkan elemen A ke-2: 4\n",
            "Masukkan banyaknya elemen B: 2\n",
            "Masukkan elemen B ke-1: 2\n",
            "Masukkan elemen B ke-2: 1\n",
            "B bukan anagram dari A\n"
          ]
        }
      ]
    },
    {
      "cell_type": "code",
      "source": [
        "PROBLEM (3) PALINDROM\n",
        "Buatlah program yang menerima sebuah string dan menuliskan apakah string tersebut palindrom.\n",
        "Asumsikan string hanya berisi huruf kecil (a-z).\n"
      ],
      "metadata": {
        "id": "sQyR0GAVddYX"
      },
      "execution_count": null,
      "outputs": []
    },
    {
      "cell_type": "code",
      "source": [
        "# Fungsi untuk mengecek apakah string adalah palindrom\n",
        "def is_palindrome(s):\n",
        "    return s == s[::-1]\n",
        "\n",
        "# Input dari pengguna\n",
        "panjang_string = int(input(\"Masukkan panjang string: \"))\n",
        "string_input = input(\"Masukkan string: \")\n",
        "\n",
        "# Validasi panjang string\n",
        "if len(string_input) != panjang_string:\n",
        "    print(f\"Panjang string yang dimasukkan tidak sesuai. Harusnya {panjang_string}.\")\n",
        "else:\n",
        "    # Cek apakah string adalah palindrom\n",
        "    if is_palindrome(string_input):\n",
        "        print(f\"{string_input} adalah palindrom\")\n",
        "    else:\n",
        "        print(f\"{string_input} bukan palindrom\")"
      ],
      "metadata": {
        "colab": {
          "base_uri": "https://localhost:8080/"
        },
        "id": "kjOOM52_dmV1",
        "outputId": "2ddbcf45-4946-4d4e-f5c0-3717d82d4138"
      },
      "execution_count": 24,
      "outputs": [
        {
          "output_type": "stream",
          "name": "stdout",
          "text": [
            "Masukkan panjang string: 5\n",
            "Masukkan string: senin\n",
            "senin bukan palindrom\n"
          ]
        }
      ]
    },
    {
      "cell_type": "markdown",
      "source": [
        "- Interpretasi coding:\n",
        "1. Parameter string: Menerima sebuah string sebagai input.\n",
        "2. Membalikkan string: Menggunakan slicing [::-1] untuk membalikkan string secara efisien.\n",
        "3. Membandingkan: Membandingkan string asli dengan string yang dibalik. Jika sama, maka string adalah palindrom, dan fungsi mengembalikan True.\n",
        "\n",
        "- Interpretasi Hasil:\n",
        "1. Meminta pengguna untuk memasukkan sebuah string.\n",
        "2. Memeriksa apakah string tersebut sama jika dibaca dari depan dan belakang.\n",
        "3. Menampilkan pesan sesuai dengan hasil pemeriksaan."
      ],
      "metadata": {
        "id": "fM9Fo97_93Ni"
      }
    },
    {
      "cell_type": "markdown",
      "source": [
        "#🏆 POST TEST 🎯"
      ],
      "metadata": {
        "id": "J_75vTSXKFGE"
      }
    },
    {
      "cell_type": "markdown",
      "source": [
        "Problem (1)"
      ],
      "metadata": {
        "id": "twhHfrqiKSfV"
      }
    },
    {
      "cell_type": "code",
      "source": [],
      "metadata": {
        "id": "hOI8Gls9KV05"
      },
      "execution_count": null,
      "outputs": []
    },
    {
      "cell_type": "markdown",
      "source": [
        "- Interpretasi coding:\n",
        "- Interpretasi hasil:"
      ],
      "metadata": {
        "id": "t9x---59KWVI"
      }
    },
    {
      "cell_type": "markdown",
      "source": [
        "📌Catatan:\n",
        "  - Notebook python ini dibuat untuk memudahkan temen-temen belajar ngoding dan pengumpulan tugas.\n",
        "  - Silakan download notebook ini lalu upload di Google Collab milik kalian agar format `pertemuan`, `topik pertemuan`,\n",
        "`tanggal`, `deskripsi pembahasan materi`, `baris coding` dan `interpretasi` bisa disesuaikan dengan kebutuhan teman-teman.\n",
        "\n",
        "  - Interpretasi coding dan hasil dimaksudkan agar teman-teman semakin memahami apa yang dipelajari.\n",
        "\n",
        "  - Deskripsi pembahasan materi dimaksudkan agar teman-teman semakin memahami apa fokus yang dipelajari.\n",
        "\n",
        "  - Tulisan di setiap sebelum baris code disebut `markdown`. Ada beberapa jenis simbol yang memudahkan kepenulisan `markdown` kita, yaitu seperti : untuk mengatur ukuran tulisan biasanya tulisan pada header menggunakan ini`#`, `##`, `###`, untuk membuat pointer menggunakan ini `-`, untuk membuat tulisan ter-highlight menggunakan ini *` `* , untuk short-cut membuat tulisan jadi **bold** gunakan ini `** **`, dan untuk *tulisan miring* gunakan ini `* *` .\n",
        "\n",
        "  - Semangat belajar! 🌟✨\n",
        "\n",
        "©️ LABORATORIUM SAINS DATA 2024"
      ],
      "metadata": {
        "id": "D-tRQnbQK69l"
      }
    }
  ]
}