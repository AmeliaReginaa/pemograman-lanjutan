{
  "nbformat": 4,
  "nbformat_minor": 0,
  "metadata": {
    "colab": {
      "provenance": [],
      "include_colab_link": true
    },
    "kernelspec": {
      "name": "python3",
      "display_name": "Python 3"
    },
    "language_info": {
      "name": "python"
    }
  },
  "cells": [
    {
      "cell_type": "markdown",
      "metadata": {
        "id": "view-in-github",
        "colab_type": "text"
      },
      "source": [
        "<a href=\"https://colab.research.google.com/github/AmeliaReginaa/pemograman-lanjutan/blob/main/pengulangan_amelia_regina__2.ipynb\" target=\"_parent\"><img src=\"https://colab.research.google.com/assets/colab-badge.svg\" alt=\"Open In Colab\"/></a>"
      ]
    },
    {
      "cell_type": "markdown",
      "source": [
        "#**🖥️👩🏻‍💻PRAKTIKUM PEMROGRAMAN LANJUT🔥**\n",
        "##**Pertemuan (2) PENGULANGAN (LOOP) - Senin, 21 Oktober 2024**\n",
        "\n",
        "👤 Nama: Amelia Regina P / NRP: 2C2230019 / Kelas: III/A Sains Data\n",
        "\n",
        "💬Deskripsi Pembahasan Materi Pengulangan:\n",
        "\n",
        "1.1.  Pengulangan (LOOP) 🔂\n",
        "- While Loop 🐋\n",
        "\n",
        "- For Loop\n",
        "\n",
        "1.2. Pengulangan Bersarang ( NESTED LOOP) 🔂🐦‍\n",
        "\n",
        "\n"
      ],
      "metadata": {
        "id": "_bN6_LxQCJZT"
      }
    },
    {
      "cell_type": "markdown",
      "source": [],
      "metadata": {
        "id": "a8sECumLNVRy"
      }
    },
    {
      "cell_type": "markdown",
      "source": [
        "#🤸🏻‍♀️ EKSPLORASI PRIBADI DI KELAS ✨"
      ],
      "metadata": {
        "id": "N0U2Qjks8P9F"
      }
    },
    {
      "cell_type": "markdown",
      "source": [
        "Pengenalan List"
      ],
      "metadata": {
        "id": "I2IKjtw_MnTh"
      }
    },
    {
      "cell_type": "code",
      "execution_count": null,
      "metadata": {
        "id": "itmMcxv88OIm",
        "colab": {
          "base_uri": "https://localhost:8080/"
        },
        "outputId": "2a9f51d2-1f15-4666-9be4-6ff32ade016c"
      },
      "outputs": [
        {
          "output_type": "stream",
          "name": "stdout",
          "text": [
            "[10, 2, 3]\n"
          ]
        }
      ],
      "source": [
        "my_list = [1, 2, 3]\n",
        "my_list[0] = 10\n",
        "print(my_list)"
      ]
    },
    {
      "cell_type": "markdown",
      "source": [
        "PENGENALAN TUPLE\n",
        "elemen elemennya tidak bisa diubah"
      ],
      "metadata": {
        "id": "-qRGK2OZM0Kn"
      }
    },
    {
      "cell_type": "code",
      "source": [
        "my_"
      ],
      "metadata": {
        "id": "ktfN0bt_NAhe"
      },
      "execution_count": null,
      "outputs": []
    },
    {
      "cell_type": "markdown",
      "source": [
        "JENIS PERULANGAN : FOOR LOOP"
      ],
      "metadata": {
        "id": "xEFXcTSnN06C"
      }
    },
    {
      "cell_type": "code",
      "source": [
        "var_list = [1,2,3,4,5,6,7,8,9,10]\n",
        "for i in var_list:\n",
        "    print(i)"
      ],
      "metadata": {
        "colab": {
          "base_uri": "https://localhost:8080/"
        },
        "id": "2qfFw0BXNtGZ",
        "outputId": "0a98a237-0801-4150-8fe5-e31e4bdcbc9c"
      },
      "execution_count": null,
      "outputs": [
        {
          "output_type": "stream",
          "name": "stdout",
          "text": [
            "1\n",
            "2\n",
            "3\n",
            "4\n",
            "5\n",
            "6\n",
            "7\n",
            "8\n",
            "9\n",
            "10\n"
          ]
        }
      ]
    },
    {
      "cell_type": "code",
      "source": [
        "huruf = \"Seunghan back soon\"\n",
        "for i in huruf:\n",
        "    print(i)"
      ],
      "metadata": {
        "colab": {
          "base_uri": "https://localhost:8080/"
        },
        "id": "TEhzi-akOirg",
        "outputId": "21027deb-038c-4456-bff2-d5a10d703474"
      },
      "execution_count": null,
      "outputs": [
        {
          "output_type": "stream",
          "name": "stdout",
          "text": [
            "S\n",
            "e\n",
            "u\n",
            "n\n",
            "g\n",
            "h\n",
            "a\n",
            "n\n",
            " \n",
            "b\n",
            "a\n",
            "c\n",
            "k\n",
            " \n",
            "s\n",
            "o\n",
            "o\n",
            "n\n"
          ]
        }
      ]
    },
    {
      "cell_type": "code",
      "source": [
        "for i in range(10):\n",
        "  print(i)"
      ],
      "metadata": {
        "colab": {
          "base_uri": "https://localhost:8080/"
        },
        "id": "juao99BRPYUb",
        "outputId": "b1c67625-c288-40ba-e15b-aeb873d99f5c"
      },
      "execution_count": null,
      "outputs": [
        {
          "output_type": "stream",
          "name": "stdout",
          "text": [
            "0\n",
            "1\n",
            "2\n",
            "3\n",
            "4\n",
            "5\n",
            "6\n",
            "7\n",
            "8\n",
            "9\n"
          ]
        }
      ]
    },
    {
      "cell_type": "code",
      "source": [
        "for i in range(1000):\n",
        "  print(\"hello word\")"
      ],
      "metadata": {
        "colab": {
          "base_uri": "https://localhost:8080/"
        },
        "id": "8lY4PieAQt0W",
        "outputId": "e92299ac-3565-4034-9e42-64f88b3850d5"
      },
      "execution_count": null,
      "outputs": [
        {
          "output_type": "stream",
          "name": "stdout",
          "text": [
            "hello word\n",
            "hello word\n",
            "hello word\n",
            "hello word\n",
            "hello word\n",
            "hello word\n",
            "hello word\n",
            "hello word\n",
            "hello word\n",
            "hello word\n",
            "hello word\n",
            "hello word\n",
            "hello word\n",
            "hello word\n",
            "hello word\n",
            "hello word\n",
            "hello word\n",
            "hello word\n",
            "hello word\n",
            "hello word\n",
            "hello word\n",
            "hello word\n",
            "hello word\n",
            "hello word\n",
            "hello word\n",
            "hello word\n",
            "hello word\n",
            "hello word\n",
            "hello word\n",
            "hello word\n",
            "hello word\n",
            "hello word\n",
            "hello word\n",
            "hello word\n",
            "hello word\n",
            "hello word\n",
            "hello word\n",
            "hello word\n",
            "hello word\n",
            "hello word\n",
            "hello word\n",
            "hello word\n",
            "hello word\n",
            "hello word\n",
            "hello word\n",
            "hello word\n",
            "hello word\n",
            "hello word\n",
            "hello word\n",
            "hello word\n",
            "hello word\n",
            "hello word\n",
            "hello word\n",
            "hello word\n",
            "hello word\n",
            "hello word\n",
            "hello word\n",
            "hello word\n",
            "hello word\n",
            "hello word\n",
            "hello word\n",
            "hello word\n",
            "hello word\n",
            "hello word\n",
            "hello word\n",
            "hello word\n",
            "hello word\n",
            "hello word\n",
            "hello word\n",
            "hello word\n",
            "hello word\n",
            "hello word\n",
            "hello word\n",
            "hello word\n",
            "hello word\n",
            "hello word\n",
            "hello word\n",
            "hello word\n",
            "hello word\n",
            "hello word\n",
            "hello word\n",
            "hello word\n",
            "hello word\n",
            "hello word\n",
            "hello word\n",
            "hello word\n",
            "hello word\n",
            "hello word\n",
            "hello word\n",
            "hello word\n",
            "hello word\n",
            "hello word\n",
            "hello word\n",
            "hello word\n",
            "hello word\n",
            "hello word\n",
            "hello word\n",
            "hello word\n",
            "hello word\n",
            "hello word\n",
            "hello word\n",
            "hello word\n",
            "hello word\n",
            "hello word\n",
            "hello word\n",
            "hello word\n",
            "hello word\n",
            "hello word\n",
            "hello word\n",
            "hello word\n",
            "hello word\n",
            "hello word\n",
            "hello word\n",
            "hello word\n",
            "hello word\n",
            "hello word\n",
            "hello word\n",
            "hello word\n",
            "hello word\n",
            "hello word\n",
            "hello word\n",
            "hello word\n",
            "hello word\n",
            "hello word\n",
            "hello word\n",
            "hello word\n",
            "hello word\n",
            "hello word\n",
            "hello word\n",
            "hello word\n",
            "hello word\n",
            "hello word\n",
            "hello word\n",
            "hello word\n",
            "hello word\n",
            "hello word\n",
            "hello word\n",
            "hello word\n",
            "hello word\n",
            "hello word\n",
            "hello word\n",
            "hello word\n",
            "hello word\n",
            "hello word\n",
            "hello word\n",
            "hello word\n",
            "hello word\n",
            "hello word\n",
            "hello word\n",
            "hello word\n",
            "hello word\n",
            "hello word\n",
            "hello word\n",
            "hello word\n",
            "hello word\n",
            "hello word\n",
            "hello word\n",
            "hello word\n",
            "hello word\n",
            "hello word\n",
            "hello word\n",
            "hello word\n",
            "hello word\n",
            "hello word\n",
            "hello word\n",
            "hello word\n",
            "hello word\n",
            "hello word\n",
            "hello word\n",
            "hello word\n",
            "hello word\n",
            "hello word\n",
            "hello word\n",
            "hello word\n",
            "hello word\n",
            "hello word\n",
            "hello word\n",
            "hello word\n",
            "hello word\n",
            "hello word\n",
            "hello word\n",
            "hello word\n",
            "hello word\n",
            "hello word\n",
            "hello word\n",
            "hello word\n",
            "hello word\n",
            "hello word\n",
            "hello word\n",
            "hello word\n",
            "hello word\n",
            "hello word\n",
            "hello word\n",
            "hello word\n",
            "hello word\n",
            "hello word\n",
            "hello word\n",
            "hello word\n",
            "hello word\n",
            "hello word\n",
            "hello word\n",
            "hello word\n",
            "hello word\n",
            "hello word\n",
            "hello word\n",
            "hello word\n",
            "hello word\n",
            "hello word\n",
            "hello word\n",
            "hello word\n",
            "hello word\n",
            "hello word\n",
            "hello word\n",
            "hello word\n",
            "hello word\n",
            "hello word\n",
            "hello word\n",
            "hello word\n",
            "hello word\n",
            "hello word\n",
            "hello word\n",
            "hello word\n",
            "hello word\n",
            "hello word\n",
            "hello word\n",
            "hello word\n",
            "hello word\n",
            "hello word\n",
            "hello word\n",
            "hello word\n",
            "hello word\n",
            "hello word\n",
            "hello word\n",
            "hello word\n",
            "hello word\n",
            "hello word\n",
            "hello word\n",
            "hello word\n",
            "hello word\n",
            "hello word\n",
            "hello word\n",
            "hello word\n",
            "hello word\n",
            "hello word\n",
            "hello word\n",
            "hello word\n",
            "hello word\n",
            "hello word\n",
            "hello word\n",
            "hello word\n",
            "hello word\n",
            "hello word\n",
            "hello word\n",
            "hello word\n",
            "hello word\n",
            "hello word\n",
            "hello word\n",
            "hello word\n",
            "hello word\n",
            "hello word\n",
            "hello word\n",
            "hello word\n",
            "hello word\n",
            "hello word\n",
            "hello word\n",
            "hello word\n",
            "hello word\n",
            "hello word\n",
            "hello word\n",
            "hello word\n",
            "hello word\n",
            "hello word\n",
            "hello word\n",
            "hello word\n",
            "hello word\n",
            "hello word\n",
            "hello word\n",
            "hello word\n",
            "hello word\n",
            "hello word\n",
            "hello word\n",
            "hello word\n",
            "hello word\n",
            "hello word\n",
            "hello word\n",
            "hello word\n",
            "hello word\n",
            "hello word\n",
            "hello word\n",
            "hello word\n",
            "hello word\n",
            "hello word\n",
            "hello word\n",
            "hello word\n",
            "hello word\n",
            "hello word\n",
            "hello word\n",
            "hello word\n",
            "hello word\n",
            "hello word\n",
            "hello word\n",
            "hello word\n",
            "hello word\n",
            "hello word\n",
            "hello word\n",
            "hello word\n",
            "hello word\n",
            "hello word\n",
            "hello word\n",
            "hello word\n",
            "hello word\n",
            "hello word\n",
            "hello word\n",
            "hello word\n",
            "hello word\n",
            "hello word\n",
            "hello word\n",
            "hello word\n",
            "hello word\n",
            "hello word\n",
            "hello word\n",
            "hello word\n",
            "hello word\n",
            "hello word\n",
            "hello word\n",
            "hello word\n",
            "hello word\n",
            "hello word\n",
            "hello word\n",
            "hello word\n",
            "hello word\n",
            "hello word\n",
            "hello word\n",
            "hello word\n",
            "hello word\n",
            "hello word\n",
            "hello word\n",
            "hello word\n",
            "hello word\n",
            "hello word\n",
            "hello word\n",
            "hello word\n",
            "hello word\n",
            "hello word\n",
            "hello word\n",
            "hello word\n",
            "hello word\n",
            "hello word\n",
            "hello word\n",
            "hello word\n",
            "hello word\n",
            "hello word\n",
            "hello word\n",
            "hello word\n",
            "hello word\n",
            "hello word\n",
            "hello word\n",
            "hello word\n",
            "hello word\n",
            "hello word\n",
            "hello word\n",
            "hello word\n",
            "hello word\n",
            "hello word\n",
            "hello word\n",
            "hello word\n",
            "hello word\n",
            "hello word\n",
            "hello word\n",
            "hello word\n",
            "hello word\n",
            "hello word\n",
            "hello word\n",
            "hello word\n",
            "hello word\n",
            "hello word\n",
            "hello word\n",
            "hello word\n",
            "hello word\n",
            "hello word\n",
            "hello word\n",
            "hello word\n",
            "hello word\n",
            "hello word\n",
            "hello word\n",
            "hello word\n",
            "hello word\n",
            "hello word\n",
            "hello word\n",
            "hello word\n",
            "hello word\n",
            "hello word\n",
            "hello word\n",
            "hello word\n",
            "hello word\n",
            "hello word\n",
            "hello word\n",
            "hello word\n",
            "hello word\n",
            "hello word\n",
            "hello word\n",
            "hello word\n",
            "hello word\n",
            "hello word\n",
            "hello word\n",
            "hello word\n",
            "hello word\n",
            "hello word\n",
            "hello word\n",
            "hello word\n",
            "hello word\n",
            "hello word\n",
            "hello word\n",
            "hello word\n",
            "hello word\n",
            "hello word\n",
            "hello word\n",
            "hello word\n",
            "hello word\n",
            "hello word\n",
            "hello word\n",
            "hello word\n",
            "hello word\n",
            "hello word\n",
            "hello word\n",
            "hello word\n",
            "hello word\n",
            "hello word\n",
            "hello word\n",
            "hello word\n",
            "hello word\n",
            "hello word\n",
            "hello word\n",
            "hello word\n",
            "hello word\n",
            "hello word\n",
            "hello word\n",
            "hello word\n",
            "hello word\n",
            "hello word\n",
            "hello word\n",
            "hello word\n",
            "hello word\n",
            "hello word\n",
            "hello word\n",
            "hello word\n",
            "hello word\n",
            "hello word\n",
            "hello word\n",
            "hello word\n",
            "hello word\n",
            "hello word\n",
            "hello word\n",
            "hello word\n",
            "hello word\n",
            "hello word\n",
            "hello word\n",
            "hello word\n",
            "hello word\n",
            "hello word\n",
            "hello word\n",
            "hello word\n",
            "hello word\n",
            "hello word\n",
            "hello word\n",
            "hello word\n",
            "hello word\n",
            "hello word\n",
            "hello word\n",
            "hello word\n",
            "hello word\n",
            "hello word\n",
            "hello word\n",
            "hello word\n",
            "hello word\n",
            "hello word\n",
            "hello word\n",
            "hello word\n",
            "hello word\n",
            "hello word\n",
            "hello word\n",
            "hello word\n",
            "hello word\n",
            "hello word\n",
            "hello word\n",
            "hello word\n",
            "hello word\n",
            "hello word\n",
            "hello word\n",
            "hello word\n",
            "hello word\n",
            "hello word\n",
            "hello word\n",
            "hello word\n",
            "hello word\n",
            "hello word\n",
            "hello word\n",
            "hello word\n",
            "hello word\n",
            "hello word\n",
            "hello word\n",
            "hello word\n",
            "hello word\n",
            "hello word\n",
            "hello word\n",
            "hello word\n",
            "hello word\n",
            "hello word\n",
            "hello word\n",
            "hello word\n",
            "hello word\n",
            "hello word\n",
            "hello word\n",
            "hello word\n",
            "hello word\n",
            "hello word\n",
            "hello word\n",
            "hello word\n",
            "hello word\n",
            "hello word\n",
            "hello word\n",
            "hello word\n",
            "hello word\n",
            "hello word\n",
            "hello word\n",
            "hello word\n",
            "hello word\n",
            "hello word\n",
            "hello word\n",
            "hello word\n",
            "hello word\n",
            "hello word\n",
            "hello word\n",
            "hello word\n",
            "hello word\n",
            "hello word\n",
            "hello word\n",
            "hello word\n",
            "hello word\n",
            "hello word\n",
            "hello word\n",
            "hello word\n",
            "hello word\n",
            "hello word\n",
            "hello word\n",
            "hello word\n",
            "hello word\n",
            "hello word\n",
            "hello word\n",
            "hello word\n",
            "hello word\n",
            "hello word\n",
            "hello word\n",
            "hello word\n",
            "hello word\n",
            "hello word\n",
            "hello word\n",
            "hello word\n",
            "hello word\n",
            "hello word\n",
            "hello word\n",
            "hello word\n",
            "hello word\n",
            "hello word\n",
            "hello word\n",
            "hello word\n",
            "hello word\n",
            "hello word\n",
            "hello word\n",
            "hello word\n",
            "hello word\n",
            "hello word\n",
            "hello word\n",
            "hello word\n",
            "hello word\n",
            "hello word\n",
            "hello word\n",
            "hello word\n",
            "hello word\n",
            "hello word\n",
            "hello word\n",
            "hello word\n",
            "hello word\n",
            "hello word\n",
            "hello word\n",
            "hello word\n",
            "hello word\n",
            "hello word\n",
            "hello word\n",
            "hello word\n",
            "hello word\n",
            "hello word\n",
            "hello word\n",
            "hello word\n",
            "hello word\n",
            "hello word\n",
            "hello word\n",
            "hello word\n",
            "hello word\n",
            "hello word\n",
            "hello word\n",
            "hello word\n",
            "hello word\n",
            "hello word\n",
            "hello word\n",
            "hello word\n",
            "hello word\n",
            "hello word\n",
            "hello word\n",
            "hello word\n",
            "hello word\n",
            "hello word\n",
            "hello word\n",
            "hello word\n",
            "hello word\n",
            "hello word\n",
            "hello word\n",
            "hello word\n",
            "hello word\n",
            "hello word\n",
            "hello word\n",
            "hello word\n",
            "hello word\n",
            "hello word\n",
            "hello word\n",
            "hello word\n",
            "hello word\n",
            "hello word\n",
            "hello word\n",
            "hello word\n",
            "hello word\n",
            "hello word\n",
            "hello word\n",
            "hello word\n",
            "hello word\n",
            "hello word\n",
            "hello word\n",
            "hello word\n",
            "hello word\n",
            "hello word\n",
            "hello word\n",
            "hello word\n",
            "hello word\n",
            "hello word\n",
            "hello word\n",
            "hello word\n",
            "hello word\n",
            "hello word\n",
            "hello word\n",
            "hello word\n",
            "hello word\n",
            "hello word\n",
            "hello word\n",
            "hello word\n",
            "hello word\n",
            "hello word\n",
            "hello word\n",
            "hello word\n",
            "hello word\n",
            "hello word\n",
            "hello word\n",
            "hello word\n",
            "hello word\n",
            "hello word\n",
            "hello word\n",
            "hello word\n",
            "hello word\n",
            "hello word\n",
            "hello word\n",
            "hello word\n",
            "hello word\n",
            "hello word\n",
            "hello word\n",
            "hello word\n",
            "hello word\n",
            "hello word\n",
            "hello word\n",
            "hello word\n",
            "hello word\n",
            "hello word\n",
            "hello word\n",
            "hello word\n",
            "hello word\n",
            "hello word\n",
            "hello word\n",
            "hello word\n",
            "hello word\n",
            "hello word\n",
            "hello word\n",
            "hello word\n",
            "hello word\n",
            "hello word\n",
            "hello word\n",
            "hello word\n",
            "hello word\n",
            "hello word\n",
            "hello word\n",
            "hello word\n",
            "hello word\n",
            "hello word\n",
            "hello word\n",
            "hello word\n",
            "hello word\n",
            "hello word\n",
            "hello word\n",
            "hello word\n",
            "hello word\n",
            "hello word\n",
            "hello word\n",
            "hello word\n",
            "hello word\n",
            "hello word\n",
            "hello word\n",
            "hello word\n",
            "hello word\n",
            "hello word\n",
            "hello word\n",
            "hello word\n",
            "hello word\n",
            "hello word\n",
            "hello word\n",
            "hello word\n",
            "hello word\n",
            "hello word\n",
            "hello word\n",
            "hello word\n",
            "hello word\n",
            "hello word\n",
            "hello word\n",
            "hello word\n",
            "hello word\n",
            "hello word\n",
            "hello word\n",
            "hello word\n",
            "hello word\n",
            "hello word\n",
            "hello word\n",
            "hello word\n",
            "hello word\n",
            "hello word\n",
            "hello word\n",
            "hello word\n",
            "hello word\n",
            "hello word\n",
            "hello word\n",
            "hello word\n",
            "hello word\n",
            "hello word\n",
            "hello word\n",
            "hello word\n",
            "hello word\n",
            "hello word\n",
            "hello word\n",
            "hello word\n",
            "hello word\n",
            "hello word\n",
            "hello word\n",
            "hello word\n",
            "hello word\n",
            "hello word\n",
            "hello word\n",
            "hello word\n",
            "hello word\n",
            "hello word\n",
            "hello word\n",
            "hello word\n",
            "hello word\n",
            "hello word\n",
            "hello word\n",
            "hello word\n",
            "hello word\n",
            "hello word\n",
            "hello word\n",
            "hello word\n",
            "hello word\n",
            "hello word\n",
            "hello word\n",
            "hello word\n",
            "hello word\n",
            "hello word\n",
            "hello word\n",
            "hello word\n",
            "hello word\n",
            "hello word\n",
            "hello word\n",
            "hello word\n",
            "hello word\n",
            "hello word\n",
            "hello word\n",
            "hello word\n",
            "hello word\n",
            "hello word\n",
            "hello word\n",
            "hello word\n",
            "hello word\n",
            "hello word\n",
            "hello word\n",
            "hello word\n",
            "hello word\n",
            "hello word\n",
            "hello word\n",
            "hello word\n",
            "hello word\n",
            "hello word\n",
            "hello word\n",
            "hello word\n",
            "hello word\n",
            "hello word\n",
            "hello word\n",
            "hello word\n",
            "hello word\n",
            "hello word\n",
            "hello word\n",
            "hello word\n",
            "hello word\n",
            "hello word\n",
            "hello word\n",
            "hello word\n",
            "hello word\n",
            "hello word\n",
            "hello word\n",
            "hello word\n",
            "hello word\n",
            "hello word\n",
            "hello word\n",
            "hello word\n",
            "hello word\n",
            "hello word\n",
            "hello word\n",
            "hello word\n",
            "hello word\n",
            "hello word\n",
            "hello word\n",
            "hello word\n",
            "hello word\n",
            "hello word\n",
            "hello word\n",
            "hello word\n",
            "hello word\n",
            "hello word\n",
            "hello word\n",
            "hello word\n",
            "hello word\n",
            "hello word\n",
            "hello word\n",
            "hello word\n",
            "hello word\n",
            "hello word\n",
            "hello word\n",
            "hello word\n",
            "hello word\n",
            "hello word\n",
            "hello word\n",
            "hello word\n",
            "hello word\n",
            "hello word\n",
            "hello word\n",
            "hello word\n",
            "hello word\n",
            "hello word\n",
            "hello word\n",
            "hello word\n",
            "hello word\n",
            "hello word\n",
            "hello word\n",
            "hello word\n",
            "hello word\n",
            "hello word\n",
            "hello word\n",
            "hello word\n",
            "hello word\n",
            "hello word\n",
            "hello word\n",
            "hello word\n",
            "hello word\n",
            "hello word\n",
            "hello word\n",
            "hello word\n",
            "hello word\n",
            "hello word\n",
            "hello word\n",
            "hello word\n",
            "hello word\n",
            "hello word\n",
            "hello word\n",
            "hello word\n",
            "hello word\n",
            "hello word\n",
            "hello word\n",
            "hello word\n",
            "hello word\n",
            "hello word\n",
            "hello word\n",
            "hello word\n",
            "hello word\n",
            "hello word\n",
            "hello word\n",
            "hello word\n",
            "hello word\n",
            "hello word\n",
            "hello word\n",
            "hello word\n",
            "hello word\n",
            "hello word\n",
            "hello word\n",
            "hello word\n",
            "hello word\n",
            "hello word\n",
            "hello word\n",
            "hello word\n",
            "hello word\n",
            "hello word\n",
            "hello word\n",
            "hello word\n",
            "hello word\n",
            "hello word\n",
            "hello word\n",
            "hello word\n",
            "hello word\n",
            "hello word\n",
            "hello word\n",
            "hello word\n",
            "hello word\n",
            "hello word\n",
            "hello word\n",
            "hello word\n",
            "hello word\n",
            "hello word\n",
            "hello word\n",
            "hello word\n",
            "hello word\n",
            "hello word\n",
            "hello word\n",
            "hello word\n",
            "hello word\n",
            "hello word\n",
            "hello word\n",
            "hello word\n",
            "hello word\n",
            "hello word\n",
            "hello word\n",
            "hello word\n",
            "hello word\n",
            "hello word\n",
            "hello word\n",
            "hello word\n",
            "hello word\n",
            "hello word\n",
            "hello word\n",
            "hello word\n",
            "hello word\n",
            "hello word\n",
            "hello word\n",
            "hello word\n",
            "hello word\n",
            "hello word\n",
            "hello word\n",
            "hello word\n",
            "hello word\n",
            "hello word\n",
            "hello word\n",
            "hello word\n",
            "hello word\n",
            "hello word\n",
            "hello word\n",
            "hello word\n",
            "hello word\n",
            "hello word\n",
            "hello word\n",
            "hello word\n",
            "hello word\n",
            "hello word\n",
            "hello word\n",
            "hello word\n",
            "hello word\n",
            "hello word\n",
            "hello word\n",
            "hello word\n",
            "hello word\n",
            "hello word\n",
            "hello word\n",
            "hello word\n",
            "hello word\n",
            "hello word\n",
            "hello word\n",
            "hello word\n",
            "hello word\n",
            "hello word\n",
            "hello word\n",
            "hello word\n",
            "hello word\n",
            "hello word\n",
            "hello word\n",
            "hello word\n",
            "hello word\n",
            "hello word\n",
            "hello word\n",
            "hello word\n",
            "hello word\n",
            "hello word\n"
          ]
        }
      ]
    },
    {
      "cell_type": "code",
      "source": [
        "for i in range(1,10,2):\n",
        "  print(i)"
      ],
      "metadata": {
        "colab": {
          "base_uri": "https://localhost:8080/"
        },
        "id": "fgrVY6seP5Ul",
        "outputId": "877d9e58-717a-47e1-a400-60419b5faddc"
      },
      "execution_count": null,
      "outputs": [
        {
          "output_type": "stream",
          "name": "stdout",
          "text": [
            "1\n",
            "3\n",
            "5\n",
            "7\n",
            "9\n"
          ]
        }
      ]
    },
    {
      "cell_type": "code",
      "source": [
        "for i in range(2, 5, 1):\n",
        "  print(i)"
      ],
      "metadata": {
        "colab": {
          "base_uri": "https://localhost:8080/"
        },
        "id": "Xm3DkHzCRAVu",
        "outputId": "f030047e-5299-4517-bd0c-97b612c4fcfe"
      },
      "execution_count": null,
      "outputs": [
        {
          "output_type": "stream",
          "name": "stdout",
          "text": [
            "2\n",
            "3\n",
            "4\n"
          ]
        }
      ]
    },
    {
      "cell_type": "code",
      "source": [
        "for i in range(7, 2, -1):\n",
        "  print(i)"
      ],
      "metadata": {
        "colab": {
          "base_uri": "https://localhost:8080/"
        },
        "id": "CHEspHYPStN8",
        "outputId": "c9bfe236-0ffa-4e52-ef0d-14cabb82928e"
      },
      "execution_count": null,
      "outputs": [
        {
          "output_type": "stream",
          "name": "stdout",
          "text": [
            "7\n",
            "6\n",
            "5\n",
            "4\n",
            "3\n"
          ]
        }
      ]
    },
    {
      "cell_type": "code",
      "source": [
        "a = int(input())\n",
        "b = int(input())\n",
        "\n",
        "for i in range(a, b+1):\n",
        "  print(i)"
      ],
      "metadata": {
        "colab": {
          "base_uri": "https://localhost:8080/"
        },
        "id": "w_lkbbZVTTo1",
        "outputId": "b50204a3-43ff-446d-a255-52b63a3a9f6f"
      },
      "execution_count": null,
      "outputs": [
        {
          "output_type": "stream",
          "name": "stdout",
          "text": [
            "6\n",
            "9\n",
            "6\n",
            "7\n",
            "8\n",
            "9\n"
          ]
        }
      ]
    },
    {
      "cell_type": "markdown",
      "source": [
        "WHILE LOOP"
      ],
      "metadata": {
        "id": "LE5HLN0wUchd"
      }
    },
    {
      "cell_type": "code",
      "source": [
        "counter = 1\n",
        "while counter <= 5:\n",
        "    print(counter)\n",
        "    counter +=1"
      ],
      "metadata": {
        "colab": {
          "base_uri": "https://localhost:8080/"
        },
        "id": "cbmoZrqWUgH4",
        "outputId": "4fd50cfd-6dd5-491a-94d8-fa4f6f5e2ae5"
      },
      "execution_count": null,
      "outputs": [
        {
          "output_type": "stream",
          "name": "stdout",
          "text": [
            "1\n",
            "2\n",
            "3\n",
            "4\n",
            "5\n"
          ]
        }
      ]
    },
    {
      "cell_type": "code",
      "source": [
        "a = int(input())\n",
        "b = int(input())\n",
        "\n",
        "i =5\n",
        "while (i<=b):\n",
        "      print(i)\n",
        "      i+=1"
      ],
      "metadata": {
        "colab": {
          "base_uri": "https://localhost:8080/"
        },
        "id": "q_QfZeNcVQki",
        "outputId": "4993b1c8-8178-4740-e074-1fd8c5173109"
      },
      "execution_count": null,
      "outputs": [
        {
          "name": "stdout",
          "output_type": "stream",
          "text": [
            "1\n",
            "2\n"
          ]
        }
      ]
    },
    {
      "cell_type": "code",
      "source": [
        "counter = 1\n",
        "while counter <= 5:\n",
        "  print(counter)\n",
        "  counter += 1\n"
      ],
      "metadata": {
        "colab": {
          "base_uri": "https://localhost:8080/"
        },
        "id": "-jjnDl5LVykd",
        "outputId": "4403b979-8f76-4ebf-9d19-d92c86355336"
      },
      "execution_count": null,
      "outputs": [
        {
          "output_type": "stream",
          "name": "stdout",
          "text": [
            "1\n",
            "2\n",
            "3\n",
            "4\n",
            "5\n"
          ]
        }
      ]
    },
    {
      "cell_type": "markdown",
      "source": [
        "FOR NESTED LOOP"
      ],
      "metadata": {
        "id": "8JORQeRTXAAX"
      }
    },
    {
      "cell_type": "code",
      "source": [
        "n = int(input())\n",
        "\n",
        "for i in range(n):\n",
        "  for j in range(n):\n",
        "    print(\"*\", end=\"\")"
      ],
      "metadata": {
        "colab": {
          "base_uri": "https://localhost:8080/"
        },
        "id": "5N8NSyNlXGav",
        "outputId": "27b802cd-ec8e-4553-8d81-39207b4c3a21"
      },
      "execution_count": null,
      "outputs": [
        {
          "output_type": "stream",
          "name": "stdout",
          "text": [
            "2\n",
            "****"
          ]
        }
      ]
    },
    {
      "cell_type": "markdown",
      "source": [
        "1. Kelipatan 5 terkecil\n",
        "buatlah program yang menerima bilangan n dan menuliskan bilangan kelipatan 5 terkecil yang lebih besar dari N"
      ],
      "metadata": {
        "id": "hpaWILMy5t5Z"
      }
    },
    {
      "cell_type": "code",
      "source": [
        "# input bilangan N\n",
        "N = int(input(\"Masukan N: \"))\n",
        "\n",
        "# mencari kelipatan 5 terkecil yang lebih besar dari N\n",
        "i = N + 1\n",
        "while i%5 !=0: #selama bukan kelipatan 5\n",
        "    i +=1 # tambah 1\n",
        "\n",
        "    # output hasil\n",
        "    print(\"output:\", i)"
      ],
      "metadata": {
        "colab": {
          "base_uri": "https://localhost:8080/"
        },
        "id": "wvDR1U3n61sk",
        "outputId": "0e0e6a09-35ed-4e16-e74f-ae1d78f0cf96"
      },
      "execution_count": null,
      "outputs": [
        {
          "output_type": "stream",
          "name": "stdout",
          "text": [
            "Masukan N: 5\n",
            "output: 7\n",
            "output: 8\n",
            "output: 9\n",
            "output: 10\n"
          ]
        }
      ]
    },
    {
      "cell_type": "code",
      "source": [
        "# input bilangan N\n",
        "N = int(input(\"Masukan N: \"))\n",
        "\n",
        "# mencari kelipatan 7 terkecil yang lebih besar dari N\n",
        "i = N + 1\n",
        "while i%7 !=0: #selama bukan kelipatan 7\n",
        "    i +=1 # tambah 1\n",
        "\n",
        "    # output hasil\n",
        "    print(\"output:\", i)"
      ],
      "metadata": {
        "colab": {
          "base_uri": "https://localhost:8080/"
        },
        "id": "5SAivgtd6_P6",
        "outputId": "1a2daf18-c5c0-4229-bae5-dfb2c8c4589e"
      },
      "execution_count": null,
      "outputs": [
        {
          "name": "stdout",
          "output_type": "stream",
          "text": [
            "Masukan N: 6\n"
          ]
        }
      ]
    },
    {
      "cell_type": "markdown",
      "source": [
        "MEMBUAT BINTANG"
      ],
      "metadata": {
        "id": "9h3FPOTa7JXs"
      }
    },
    {
      "cell_type": "code",
      "source": [
        "# input dari pengguna\n",
        "N = int(input('masukan nilai N: '))\n",
        "\n",
        "# cetak pola segitiga bintang\n",
        "for i in range(1, N+1):\n",
        "  print('*' * i)"
      ],
      "metadata": {
        "colab": {
          "base_uri": "https://localhost:8080/"
        },
        "id": "sf2ANTYS7LxD",
        "outputId": "59d95d0d-07cc-49be-8084-b79455b84318"
      },
      "execution_count": null,
      "outputs": [
        {
          "output_type": "stream",
          "name": "stdout",
          "text": [
            "masukan nilai N: 4\n",
            "*\n",
            "**\n",
            "***\n",
            "****\n"
          ]
        }
      ]
    },
    {
      "cell_type": "markdown",
      "source": [
        "MEMBUAT SEGITIGA TERBALIK"
      ],
      "metadata": {
        "id": "DKLjBnQ57QyG"
      }
    },
    {
      "cell_type": "code",
      "source": [
        "N = int(input(\"masukan bilangan N: \"))\n",
        "for i in range(N, 0, -1):\n",
        "  for j in range(1, i+1):\n",
        "    print(j, end=\"\")\n",
        "    print()"
      ],
      "metadata": {
        "colab": {
          "base_uri": "https://localhost:8080/"
        },
        "id": "R1yCVbPF7TSZ",
        "outputId": "3eb55632-f167-4690-be2a-0ef8aa0320a4"
      },
      "execution_count": null,
      "outputs": [
        {
          "output_type": "stream",
          "name": "stdout",
          "text": [
            "masukan bilangan N: 2\n",
            "1\n",
            "2\n",
            "1\n"
          ]
        }
      ]
    },
    {
      "cell_type": "code",
      "source": [
        "KELIPATAN 2 DAN 3"
      ],
      "metadata": {
        "id": "eWpH55N77clv"
      },
      "execution_count": null,
      "outputs": []
    },
    {
      "cell_type": "code",
      "source": [
        "N = int(input(\"masukan nilai N: \"))\n",
        "\n",
        "#loop dari 1 hingga n\n",
        "for x in range(1, N + 1):\n",
        "  if x % 2 = 0 and x % 3 = 0:\n",
        "    print(\"duatiga\", end=\" \")\n",
        "    elif x%2 = 0:\n",
        "      print(\"dua\", end=\" \")\n",
        "      elif x%3 = 0:\n",
        "        print(\"tiga\", end= \" \")\n",
        "        else:\n",
        "          print(x, end=\" \")\n",
        "          print()"
      ],
      "metadata": {
        "id": "oDSWcvCs7hEb"
      },
      "execution_count": null,
      "outputs": []
    },
    {
      "cell_type": "markdown",
      "source": [
        "- Interpretasi coding:\n",
        "\n",
        "- Interpretasi Hasil:"
      ],
      "metadata": {
        "id": "f1J9LJyv9-YC"
      }
    },
    {
      "cell_type": "markdown",
      "source": [],
      "metadata": {
        "id": "scN8kmLOXFsr"
      }
    },
    {
      "cell_type": "markdown",
      "source": [
        "#🧠 LATIHAN SOAL DI KELAS ⏱️"
      ],
      "metadata": {
        "id": "KEGjH0_P9D1-"
      }
    },
    {
      "cell_type": "markdown",
      "source": [],
      "metadata": {
        "id": "lhEHN7wpZMU4"
      }
    },
    {
      "cell_type": "markdown",
      "source": [
        "Problem (1) buatlah program yang menerima bilangan N dan menuliskan bilangan 10 terkecil yang lebih dari N"
      ],
      "metadata": {
        "id": "nt7-fY7s9PgC"
      }
    },
    {
      "cell_type": "code",
      "source": [
        "# Kelipatan 10 terkecil\n",
        "def kelipatan_10_terkecil(N):\n",
        "    # Mencari kelipatan 10 terkecil yang lebih besar dari N\n",
        "    kelipatan = 10\n",
        "    while kelipatan <= N:\n",
        "        kelipatan += 10\n",
        "    return kelipatan\n",
        "\n",
        "# Menerima input dari user\n",
        "N = int(input(\"Masukan N: \"))\n",
        "\n",
        "# tampilkan hasil\n",
        "hasil = kelipatan_10_terkecil(N)\n",
        "print(hasil)"
      ],
      "metadata": {
        "id": "EqSPOYB1cCov",
        "colab": {
          "base_uri": "https://localhost:8080/"
        },
        "outputId": "a27e0d3d-e4fe-49e1-ea50-d6f97190cd85"
      },
      "execution_count": null,
      "outputs": [
        {
          "output_type": "stream",
          "name": "stdout",
          "text": [
            "Masukan N: 5\n",
            "10\n"
          ]
        }
      ]
    },
    {
      "cell_type": "markdown",
      "source": [
        "- Interpretasi coding:\n",
        "1. Fungsi kelipatan_10_terkecil(N) untuk mencari kelipatan 10 pertama yang lebih besar dari bilangan N\n",
        "2. Loop while digunakan untuk memastikan bahwa kelipatan 10 bisa terus ditambah sampai lebih besar dari N\n",
        "3. Hasil adalah kelipatan 10 terkecil yang lebih besar dari N\n",
        "\n",
        "- Interpretasi Hasil:\n",
        "1. jika pengguna memasukan bilangan N=5, maka program akan mengembalikan bil 10 terkecil yg lebih dari 5\n",
        "2. jika pengguna mengimput N = 5, maka hasilnya adalah 10\n"
      ],
      "metadata": {
        "id": "Wou8YKfJ9lvY"
      }
    },
    {
      "cell_type": "markdown",
      "source": [
        "Problem (2) Buatlah program yang menerima bilangan N dan membuat pola segitiga angka dengan dasar N seperti contoh"
      ],
      "metadata": {
        "id": "Eucg6DUK9fgA"
      }
    },
    {
      "cell_type": "code",
      "source": [
        "# Segitiga Angka\n",
        "def segitiga_angka(N):\n",
        "    for i in range(1, N+1):  # Loop untuk setiap baris\n",
        "        for j in range(1, i+1):  # Loop untuk mencetak angka pada setiap baris\n",
        "            print(j, end=\" \")\n",
        "        print()  # Pindah baris setelah selesai mencetak angka\n",
        "\n",
        "# Contoh input\n",
        "N = int(input(\"Masukan N: \"))\n",
        "\n",
        "#Memanggil Fungsi untuk membuat pola segitiga angka\n",
        "segitiga_angka(N)"
      ],
      "metadata": {
        "id": "9uWMEZpP9hlB",
        "colab": {
          "base_uri": "https://localhost:8080/"
        },
        "outputId": "a2b49807-8339-4c69-854e-bc037d15e47c"
      },
      "execution_count": null,
      "outputs": [
        {
          "output_type": "stream",
          "name": "stdout",
          "text": [
            "Masukan N: 5\n",
            "1 \n",
            "1 2 \n",
            "1 2 3 \n",
            "1 2 3 4 \n",
            "1 2 3 4 5 \n"
          ]
        }
      ]
    },
    {
      "cell_type": "markdown",
      "source": [
        "- Interpretasi coding:\n",
        "1. Fungsi segitiga_angka(N) berfungsi untuk mencetak pola segitiga angka\n",
        "2. Loop pertama for i in range (1, N+1) digunakan untuk mengatur baris yang akan dicetak\n",
        "3. Loop for J in range (1, 1+i) digunakan untuk mencetak angka dari 1 hingtga i pada setiap baris\n",
        "4. Setelah baris di cetak, print()digunakan untuk memindahkan baris\n",
        "\n",
        "- Interpretasi Hasil:\n",
        "1. Dengan input N = 5, maka hasilnya adalah segitiga angka yg tercetak"
      ],
      "metadata": {
        "id": "fM9Fo97_93Ni"
      }
    },
    {
      "cell_type": "markdown",
      "source": [
        "1. Loop mana yg lebih baik digunakan untuk soal tersebut?\n",
        "Semua loop karena setiap soal memiliki karakteristik yg berbeda\n",
        "\n",
        "2. Perbedaan Karakteristik Loop ]\n",
        "- LOOP WHILE\n",
        "digunakan ketika jumlah iterasi tidak pasti\n",
        "- LOOP FOR\n",
        "Digunakan ketika jumlah iterasi sudah pasti (tergantung nilai n)"
      ],
      "metadata": {
        "id": "x3GX5dBuMqpW"
      }
    },
    {
      "cell_type": "markdown",
      "source": [
        "#🏆 POST TEST 🎯"
      ],
      "metadata": {
        "id": "J_75vTSXKFGE"
      }
    },
    {
      "cell_type": "markdown",
      "source": [
        "Problem (1)\n",
        "Terdapat N buah angka dari 1 hingga N. Jika x merupakan kelipatan dari A maka keluarkan \"Siap\". Jika x merupakan kelipatan dari B maka keluarkan \"Bang\". Jika x merupakan kelipatan dari C maka keluarkan \"Jago\". Jika x bukan merupakan keliatan dari semuanya, maka tampilkan angkanya saja.\n",
        "\n",
        "Catatan: Kata Siap, Bang dan Jago dapat muncul pada saat yang bersamaan. Untuk lebih jelasnya, perhatikan Test Case.\n"
      ],
      "metadata": {
        "id": "twhHfrqiKSfV"
      }
    },
    {
      "cell_type": "code",
      "source": [
        "def cetak_kelipatan(N, A, B, C):\n",
        "    for x in range(1, N + 1):\n",
        "        output = \"\"\n",
        "        if x % A == 0:\n",
        "            output += \"Siap\"\n",
        "        if x % B == 0:\n",
        "            output += \" Bang\"\n",
        "        if x % C == 0:\n",
        "            output += \" Jago\"\n",
        "\n",
        "        # Jika output kosong, berarti x bukan kelipatan dari A, B, atau C\n",
        "        if output == \"\":\n",
        "            output = str(x)\n",
        "        else:\n",
        "            output = output.strip()  # Menghapus spasi di depan\n",
        "\n",
        "        print(output)\n",
        "\n",
        "N = int(input(\"Masukkan nilai N: \"))\n",
        "A = int(input(\"Masukkan nilai A: \"))\n",
        "B = int(input(\"Masukkan nilai B: \"))\n",
        "C = int(input(\"Masukkan nilai C: \"))\n",
        "cetak_kelipatan(N, A, B, C)"
      ],
      "metadata": {
        "id": "hOI8Gls9KV05",
        "colab": {
          "base_uri": "https://localhost:8080/"
        },
        "outputId": "b6798c6b-e328-4d78-94e9-f691a66a220f"
      },
      "execution_count": null,
      "outputs": [
        {
          "output_type": "stream",
          "name": "stdout",
          "text": [
            "Masukkan nilai N: 12\n",
            "Masukkan nilai A: 2\n",
            "Masukkan nilai B: 3\n",
            "Masukkan nilai C: 4\n",
            "1\n",
            "Siap\n",
            "Bang\n",
            "Siap Jago\n",
            "5\n",
            "Siap Bang\n",
            "7\n",
            "Siap Jago\n",
            "Bang\n",
            "Siap\n",
            "11\n",
            "Siap Bang Jago\n"
          ]
        }
      ]
    },
    {
      "cell_type": "code",
      "source": [
        "def cetak_kelipatan(N, A, B, C):\n",
        "    for x in range(1, N + 1):\n",
        "        output = \"\"\n",
        "        if x % A == 0:\n",
        "            output += \"Siap\"\n",
        "        if x % B == 0:\n",
        "            output += \" Bang\"\n",
        "        if x % C == 0:\n",
        "            output += \" Jago\"\n",
        "\n",
        "        # Jika output kosong, berarti x bukan kelipatan dari A, B, atau C\n",
        "        if output == \"\":\n",
        "            output = str(x)\n",
        "        else:\n",
        "            output = output.strip()  # Menghapus spasi di depan\n",
        "\n",
        "        print(output)\n",
        "\n",
        "N = int(input(\"Masukkan nilai N: \"))\n",
        "A = int(input(\"Masukkan nilai A: \"))\n",
        "B = int(input(\"Masukkan nilai B: \"))\n",
        "C = int(input(\"Masukkan nilai C: \"))\n",
        "cetak_kelipatan(N, A, B, C)"
      ],
      "metadata": {
        "colab": {
          "base_uri": "https://localhost:8080/"
        },
        "id": "ijvLtwJ8RVkf",
        "outputId": "9616da48-6c69-49db-b61a-f859fe445947"
      },
      "execution_count": null,
      "outputs": [
        {
          "output_type": "stream",
          "name": "stdout",
          "text": [
            "Masukkan nilai N: 5 \n",
            "Masukkan nilai A: 1\n",
            "Masukkan nilai B: 1\n",
            "Masukkan nilai C: 1\n",
            "Siap Bang Jago\n",
            "Siap Bang Jago\n",
            "Siap Bang Jago\n",
            "Siap Bang Jago\n",
            "Siap Bang Jago\n"
          ]
        }
      ]
    },
    {
      "cell_type": "markdown",
      "source": [
        "- Interpretasi coding:\n",
        "1. Pada fungsi cetak_kelipatan(N, A, B, C) digunakan untuk menerima parameter\n",
        "2. Menggunakan perulangan for x in range(1, N+1) untuk mencetak angka dari 1 hingga N\n",
        "- Interpretasi hasil:\n",
        "1. dengan Input N = 12, A = 2,B = 3,C = 4 maka akan menampilkan hasil seperti yang tercetak pada output"
      ],
      "metadata": {
        "id": "t9x---59KWVI"
      }
    },
    {
      "cell_type": "markdown",
      "source": [
        "📌Catatan:\n",
        "  - Notebook python ini dibuat untuk memudahkan temen-temen belajar ngoding dan pengumpulan tugas.\n",
        "  - Silakan download notebook ini lalu upload di Google Collab milik kalian agar format `pertemuan`, `topik pertemuan`,\n",
        "`tanggal`, `deskripsi pembahasan materi`, `baris coding` dan `interpretasi` bisa disesuaikan dengan kebutuhan teman-teman.\n",
        "\n",
        "  - Interpretasi coding dan hasil dimaksudkan agar teman-teman semakin memahami apa yang dipelajari.\n",
        "\n",
        "  - Deskripsi pembahasan materi dimaksudkan agar teman-teman semakin memahami apa fokus yang dipelajari.\n",
        "\n",
        "  - Tulisan di setiap sebelum baris code disebut `markdown`. Ada beberapa jenis simbol yang memudahkan kepenulisan `markdown` kita, yaitu seperti : untuk mengatur ukuran tulisan biasanya tulisan pada header menggunakan ini`#`, `##`, `###`, untuk membuat pointer menggunakan ini `-`, untuk membuat tulisan ter-highlight menggunakan ini *` `* , untuk short-cut membuat tulisan jadi **bold** gunakan ini `** **`, dan untuk *tulisan miring* gunakan ini `* *` .\n",
        "\n",
        "  - Semangat belajar! 🌟✨\n",
        "\n",
        "©️ LABORATORIUM SAINS DATA 2024"
      ],
      "metadata": {
        "id": "D-tRQnbQK69l"
      }
    }
  ]
}