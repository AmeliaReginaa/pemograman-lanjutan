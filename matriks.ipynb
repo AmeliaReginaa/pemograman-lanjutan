{
  "nbformat": 4,
  "nbformat_minor": 0,
  "metadata": {
    "colab": {
      "provenance": [],
      "authorship_tag": "ABX9TyPWyHOliEuz7Hw9lvr7upGK",
      "include_colab_link": true
    },
    "kernelspec": {
      "name": "python3",
      "display_name": "Python 3"
    },
    "language_info": {
      "name": "python"
    }
  },
  "cells": [
    {
      "cell_type": "markdown",
      "metadata": {
        "id": "view-in-github",
        "colab_type": "text"
      },
      "source": [
        "<a href=\"https://colab.research.google.com/github/AmeliaReginaa/pemograman-lanjutan/blob/main/matriks.ipynb\" target=\"_parent\"><img src=\"https://colab.research.google.com/assets/colab-badge.svg\" alt=\"Open In Colab\"/></a>"
      ]
    },
    {
      "cell_type": "markdown",
      "source": [
        "1. PENGANTAR MATRIKS\n",
        "Pada dasarnya adalah array 2 dimensi.Matriks dapat di deklarasikan dengan:\n"
      ],
      "metadata": {
        "id": "KtguebwlfTdk"
      }
    },
    {
      "cell_type": "code",
      "execution_count": null,
      "metadata": {
        "colab": {
          "base_uri": "https://localhost:8080/"
        },
        "id": "q1lNewFdeGac",
        "outputId": "e8bbc501-bd93-49e4-9bef-977f8b9c03a9"
      },
      "outputs": [
        {
          "output_type": "execute_result",
          "data": {
            "text/plain": [
              "[[0, 0, 0, 0, 0, 0, 0, 0, 0, 0, 0, 0, 0, 0, 0, 0, 0, 0, 0, 0],\n",
              " [0, 0, 0, 0, 0, 0, 0, 0, 0, 0, 0, 0, 0, 0, 0, 0, 0, 0, 0, 0],\n",
              " [0, 0, 0, 0, 0, 0, 0, 0, 0, 0, 0, 0, 0, 0, 0, 0, 0, 0, 0, 0],\n",
              " [0, 0, 0, 0, 0, 0, 0, 0, 0, 0, 0, 0, 0, 0, 0, 0, 0, 0, 0, 0],\n",
              " [0, 0, 0, 0, 0, 0, 0, 0, 0, 0, 0, 0, 0, 0, 0, 0, 0, 0, 0, 0],\n",
              " [0, 0, 0, 0, 0, 0, 0, 0, 0, 0, 0, 0, 0, 0, 0, 0, 0, 0, 0, 0],\n",
              " [0, 0, 0, 0, 0, 0, 0, 0, 0, 0, 0, 0, 0, 0, 0, 0, 0, 0, 0, 0],\n",
              " [0, 0, 0, 0, 0, 0, 0, 0, 0, 0, 0, 0, 0, 0, 0, 0, 0, 0, 0, 0],\n",
              " [0, 0, 0, 0, 0, 0, 0, 0, 0, 0, 0, 0, 0, 0, 0, 0, 0, 0, 0, 0],\n",
              " [0, 0, 0, 0, 0, 0, 0, 0, 0, 0, 0, 0, 0, 0, 0, 0, 0, 0, 0, 0]]"
            ]
          },
          "metadata": {},
          "execution_count": 2
        }
      ],
      "source": [
        "A = [[0 for j in range(20)] for i in range (10)]\n",
        "A"
      ]
    },
    {
      "cell_type": "markdown",
      "source": [
        "Untuk elemen baris ke-i dan kolom ke-j perlu diakses dengan A[i-1] [j-1] karena indeks matriks dimulai dari 0."
      ],
      "metadata": {
        "id": "Nv5sO7zhgFm5"
      }
    },
    {
      "cell_type": "code",
      "source": [
        "n = input(input())\n",
        "m = input(input())\n",
        "\n",
        "A = [[0 for j in range(m)] for i in range(n)]\n",
        "\n",
        "for i in range(n):\n",
        "  for j in range(m):\n",
        "    A[i][j] = int(input(\"masukan elemen baris\"+str(i+1)+\"kolom\"+str(j+1)+\":\"))\n",
        "    for i in range(n):\n",
        "      for j in range(m):\n",
        "        print(A[i][j],end=\"\")\n",
        "        print(\"\")"
      ],
      "metadata": {
        "id": "52mcRlI0gCi8"
      },
      "execution_count": null,
      "outputs": []
    },
    {
      "cell_type": "code",
      "source": [
        "for i in range(n):\n",
        "  for j in range (m):\n",
        "    print(A[i][j], end=\"\")\n",
        "    print(\"\")"
      ],
      "metadata": {
        "id": "A4q56hVhiQ0M"
      },
      "execution_count": null,
      "outputs": []
    },
    {
      "cell_type": "code",
      "source": [
        "n = int(input())\n",
        "m = int(input())\n",
        "i = int(input())\n",
        "\n",
        "A = [[0 for j in range(m)] for i in range(n)]\n",
        "B = [[O for j in range(i)] for i in range(m)]\n",
        "C = [[0 for j in range(i)]for i in range(n)]\n",
        "\n",
        "for i in range(n):\n",
        "  for j in range(m):\n",
        "    A[I]\n"
      ],
      "metadata": {
        "id": "m_QtJOwPirIe"
      },
      "execution_count": null,
      "outputs": []
    },
    {
      "cell_type": "markdown",
      "source": [
        "MATRIKS DENGAN LIBRARY NUMPY"
      ],
      "metadata": {
        "id": "c7zmpsf-jjGp"
      }
    },
    {
      "cell_type": "code",
      "source": [
        "import numpy as np\n",
        "x1 = np.array([[2,3,4],\n",
        "              [2,5,6],\n",
        "              [6,7,8]])\n",
        "x1"
      ],
      "metadata": {
        "colab": {
          "base_uri": "https://localhost:8080/"
        },
        "id": "8Qc94VgPjnJJ",
        "outputId": "a50d52a5-dbba-405d-cd63-ce9b6a238a15"
      },
      "execution_count": null,
      "outputs": [
        {
          "output_type": "execute_result",
          "data": {
            "text/plain": [
              "array([[2, 3, 4],\n",
              "       [2, 5, 6],\n",
              "       [6, 7, 8]])"
            ]
          },
          "metadata": {},
          "execution_count": 5
        }
      ]
    },
    {
      "cell_type": "markdown",
      "source": [
        "MATRIKS DENGAN LIST"
      ],
      "metadata": {
        "id": "6AKFfNrIkXSf"
      }
    },
    {
      "cell_type": "code",
      "source": [
        "ls = [[2,3,4],\n",
        "         [2,5,6],\n",
        "         [6,7,8]]\n",
        "ls\n"
      ],
      "metadata": {
        "colab": {
          "base_uri": "https://localhost:8080/"
        },
        "id": "CS_boPv7kWsa",
        "outputId": "dc8c7e42-7b56-4cec-f6c7-40e5e0e2a67e"
      },
      "execution_count": null,
      "outputs": [
        {
          "output_type": "execute_result",
          "data": {
            "text/plain": [
              "[[2, 3, 4], [2, 5, 6], [6, 7, 8]]"
            ]
          },
          "metadata": {},
          "execution_count": 9
        }
      ]
    },
    {
      "cell_type": "code",
      "source": [
        "\n",
        "x2 = np.dot(x1,x1)\n",
        "x2"
      ],
      "metadata": {
        "colab": {
          "base_uri": "https://localhost:8080/"
        },
        "id": "6INE8hFmlNQf",
        "outputId": "85d13dd6-bb7c-4eab-d58e-ebb4d5c40d54"
      },
      "execution_count": null,
      "outputs": [
        {
          "output_type": "execute_result",
          "data": {
            "text/plain": [
              "array([[ 34,  49,  58],\n",
              "       [ 50,  73,  86],\n",
              "       [ 74, 109, 130]])"
            ]
          },
          "metadata": {},
          "execution_count": 13
        }
      ]
    },
    {
      "cell_type": "markdown",
      "source": [
        "**LATIHAN MODUL 4 **"
      ],
      "metadata": {
        "id": "xrnB6Pcml_4H"
      }
    },
    {
      "cell_type": "markdown",
      "source": [
        "SEGITIGA PASCAL"
      ],
      "metadata": {
        "id": "soxUfjlgnJrJ"
      }
    },
    {
      "cell_type": "code",
      "source": [
        "n = 5\n",
        "\n",
        "segitiga = [[1] * (i + 1) for i in range(n)]\n",
        "\n",
        "for i in range(2, n):\n",
        "    for j in range(1, i):\n",
        "        segitiga[i][j] = segitiga[i - 1][j - 1] + segitiga[i - 1][j]\n",
        "\n",
        "for baris in segitiga:\n",
        "    print(baris)"
      ],
      "metadata": {
        "colab": {
          "base_uri": "https://localhost:8080/"
        },
        "id": "LNUeVQPjmEAf",
        "outputId": "8e112e75-5abd-4ecc-9523-d7d28e8d08b1"
      },
      "execution_count": null,
      "outputs": [
        {
          "output_type": "stream",
          "name": "stdout",
          "text": [
            "[1]\n",
            "[1, 1]\n",
            "[1, 2, 1]\n",
            "[1, 3, 3, 1]\n",
            "[1, 4, 6, 4, 1]\n"
          ]
        }
      ]
    },
    {
      "cell_type": "markdown",
      "source": [
        "2.2 LINEAR ALGEBRA"
      ],
      "metadata": {
        "id": "axDdbtVepHBZ"
      }
    },
    {
      "cell_type": "markdown",
      "source": [
        "A. Tentukan determinan dari matriks berikut\n",
        "A = [1 2]\n",
        "    "
      ],
      "metadata": {
        "id": "64mPQNY-pJ0A"
      }
    },
    {
      "cell_type": "code",
      "source": [
        "import numpy as np\n",
        "\n",
        "# Tentukan Determinan\n",
        "# Matriks A\n",
        "A = np.array([[1, 2],\n",
        "              [3, 4]])\n",
        "\n",
        "# Matriks B\n",
        "B = np.array([[-1, 3, 0],\n",
        "              [2, 1, -5],\n",
        "              [1, 4, -2]])\n",
        "\n",
        "# Menghitung determinan\n",
        "det_A = np.linalg.det(A)\n",
        "det_B = np.linalg.det(B)\n",
        "\n",
        "print(\"Determinan matriks A:\", round(det_A))\n",
        "print(\"Determinan matriks B:\", round(det_B))"
      ],
      "metadata": {
        "colab": {
          "base_uri": "https://localhost:8080/"
        },
        "id": "yrFv8sZopVBB",
        "outputId": "0938206a-d344-470c-db81-d3324c1f4cb6"
      },
      "execution_count": null,
      "outputs": [
        {
          "output_type": "stream",
          "name": "stdout",
          "text": [
            "Determinan matriks A: -2\n",
            "Determinan matriks B: -21\n"
          ]
        }
      ]
    },
    {
      "cell_type": "markdown",
      "source": [
        "B. TENTUKAN TRANSPOSE DARI MATRIKS"
      ],
      "metadata": {
        "id": "HJy_z3OGqVPf"
      }
    },
    {
      "cell_type": "code",
      "source": [
        "# Matriks A untuk transpose\n",
        "A_transpose = np.array([[1, 3, 7, 2],\n",
        "                        [5, 8, -9, 0],\n",
        "                        [6, -7, 11, 12]])\n",
        "\n",
        "# Menghitung transpose\n",
        "transpose_A = A_transpose.T\n",
        "\n",
        "print(\"Transpose matriks A:\")\n",
        "print(transpose_A)"
      ],
      "metadata": {
        "colab": {
          "base_uri": "https://localhost:8080/"
        },
        "id": "YQPX0Ai7qZd6",
        "outputId": "4eeab9a7-a90b-4e4b-8707-097a960dc378"
      },
      "execution_count": null,
      "outputs": [
        {
          "output_type": "stream",
          "name": "stdout",
          "text": [
            "Transpose matriks A:\n",
            "[[ 1  5  6]\n",
            " [ 3  8 -7]\n",
            " [ 7 -9 11]\n",
            " [ 2  0 12]]\n"
          ]
        }
      ]
    }
  ]
}