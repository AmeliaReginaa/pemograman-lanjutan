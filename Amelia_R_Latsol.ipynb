{
  "nbformat": 4,
  "nbformat_minor": 0,
  "metadata": {
    "colab": {
      "provenance": [],
      "authorship_tag": "ABX9TyMOdyFLw6PNjM0UsO6wKVmI",
      "include_colab_link": true
    },
    "kernelspec": {
      "name": "python3",
      "display_name": "Python 3"
    },
    "language_info": {
      "name": "python"
    }
  },
  "cells": [
    {
      "cell_type": "markdown",
      "metadata": {
        "id": "view-in-github",
        "colab_type": "text"
      },
      "source": [
        "<a href=\"https://colab.research.google.com/github/AmeliaReginaa/pemograman-lanjutan/blob/main/Amelia_R_Latsol.ipynb\" target=\"_parent\"><img src=\"https://colab.research.google.com/assets/colab-badge.svg\" alt=\"Open In Colab\"/></a>"
      ]
    },
    {
      "cell_type": "code",
      "execution_count": 8,
      "metadata": {
        "colab": {
          "base_uri": "https://localhost:8080/"
        },
        "id": "Nm6Pf7jcOo_Q",
        "outputId": "b5a669e7-ad89-42d3-b80e-1c20da9775cb"
      },
      "outputs": [
        {
          "output_type": "stream",
          "name": "stdout",
          "text": [
            "input Berat Badan Atlit: 55\n",
            "Kelas B\n"
          ]
        }
      ],
      "source": [
        "# NOMOR 1\n",
        "berat_badan = int(input(\"input Berat Badan Atlit: \"))\n",
        "\n",
        "# Menentukan kelas berat badan atlit\n",
        "\n",
        "if berat_badan < 45:\n",
        "  print(\"Tidak memenuhi kualifikasi\")\n",
        "elif berat_badan <= 50:\n",
        "  print(\"Kelas A \")\n",
        "elif berat_badan <= 60:\n",
        "  print(\"Kelas B\")\n",
        "elif berat_badan <= 60:\n",
        "  print(\"Kelas C\")\n",
        "elif berat_badan <= 65:\n",
        "  print(\"Kelas D\")\n",
        "elif berat_badan <= 70:\n",
        "  print(\"kelas E\")\n",
        "else :\n",
        "  print(\"kelas F\")"
      ]
    },
    {
      "cell_type": "code",
      "source": [
        "# NOMOR 2\n",
        "\n",
        "angka = int(input(\"Masukan Bilangan tiga digit: \"))\n",
        "\n",
        "ratusan = angka // 100\n",
        "puluhan = (angka % 100) // 1000\n",
        "satuan = angka % 10\n",
        "\n",
        "hasil = (ratusan ** 3) + (puluhan ** 3) + (satuan ** 3)\n",
        "if angka == hasil:\n",
        "   print(\"adalah bilangan amstrong\")\n",
        "else :\n",
        "   print(\"bukan bilangan amstrong\")"
      ],
      "metadata": {
        "colab": {
          "base_uri": "https://localhost:8080/"
        },
        "id": "7w71lVKsVEID",
        "outputId": "0c10d06f-6198-4d01-b57a-f0a7fd1a70d8"
      },
      "execution_count": 11,
      "outputs": [
        {
          "output_type": "stream",
          "name": "stdout",
          "text": [
            "Masukan Bilangan tiga digit: 127\n",
            "bukan bilangan amstrong\n"
          ]
        }
      ]
    },
    {
      "cell_type": "code",
      "source": [
        "# NOMOR 3\n",
        "\n",
        "jari_jari_bola = int(input(\"Masukan jari jari bola: \"))\n",
        "pi = 3.1416\n",
        "volume_bola = 4/3 * pi * jari_jari_bola **3\n",
        "print(\"volume_bola adalah: \",volume_bola)\n"
      ],
      "metadata": {
        "colab": {
          "base_uri": "https://localhost:8080/"
        },
        "collapsed": true,
        "id": "tOvrqfFjXphI",
        "outputId": "d6b68f5f-205e-4ced-f05d-b2bb401dc4c2"
      },
      "execution_count": 21,
      "outputs": [
        {
          "output_type": "stream",
          "name": "stdout",
          "text": [
            "Masukan jari jari bola: 3\n",
            "volume_bola adalah:  113.09759999999999\n"
          ]
        }
      ]
    },
    {
      "cell_type": "code",
      "source": [
        "# NOMOR 4\n",
        "jumlah_siswa = 0\n",
        "total_tinggi = 0\n",
        "tinggi_badan = int(input(\"Masukkan tinggi badan siswa: \"))\n",
        "\n",
        "if 100 <= tinggi_badan <= 150:\n",
        "  jumlah_siswa += 1\n",
        "  total_tinggi += tinggi_badan\n",
        "else:\n",
        " print(\"Tinggi badan tidak valid. Masukkan nilai antara 100-200 cm\")\n",
        "if jumlah_siswa > 0:\n",
        "    rata_rata = total_tinggi / jumlah_siswa\n",
        "    print(\"Rata-rata tinggi badan siswa:\", rata_rata, \"cm\")\n",
        "else:\n",
        "    print(\"Tidak ada data siswa yang valid\")\n",
        "\n",
        "\n",
        "\n"
      ],
      "metadata": {
        "colab": {
          "base_uri": "https://localhost:8080/"
        },
        "id": "bYz5_HIsbL5U",
        "outputId": "feafdc54-9397-430e-c9d5-db2248eb8079"
      },
      "execution_count": 30,
      "outputs": [
        {
          "output_type": "stream",
          "name": "stdout",
          "text": [
            "Masukkan tinggi badan siswa: 100\n",
            "Rata-rata tinggi badan siswa: 100.0 cm\n"
          ]
        }
      ]
    },
    {
      "cell_type": "code",
      "source": [
        "# NOMOR 5\n",
        "\n",
        "N = int(input(\"Masukkan jumlah mahasiswa: \"))\n",
        "\n",
        "data_mahasiswa = []\n",
        "\n",
        "for i in range(N):\n",
        "    print(f\"\\nData untuk mahasiswa ke-{i+1}\")\n",
        "\n",
        "    # Input nama dan nilai\n",
        "    nama = input(\"Nama: \")\n",
        "    nilai_praktikum = int(input(\"Nilai praktikum (0-100): \"))\n",
        "    nilai_uts = int(input(\"Nilai UTS (0-100): \"))\n",
        "    nilai_uas = int(input(\"Nilai UAS (0-100): \"))\n",
        "\n",
        "    nilai_akhir = 0.2 * nilai_praktikum + 0.4 * nilai_uts + 0.4 * nilai_uas\n",
        "    if nilai_akhir >= 85:\n",
        "        indeks = \"A\"\n",
        "    elif nilai_akhir >= 75:\n",
        "        indeks = \"AB\"\n",
        "    elif nilai_akhir >= 70:\n",
        "        indeks = \"B\"\n",
        "    elif nilai_akhir >= 60:\n",
        "        indeks = \"BC\"\n",
        "    elif nilai_akhir >= 50:\n",
        "        indeks = \"C\"\n",
        "    elif nilai_akhir >= 40:\n",
        "        indeks = \"D\"\n",
        "    else:\n",
        "        indeks = \"E\"\n",
        "    data_mahasiswa.append((nama, nilai_praktikum, nilai_uts, nilai_uas, nilai_akhir, indeks))\n",
        "9\n",
        "print(\"\\nNama | Praktikum | UTS | UAS | Akhir | Indeks\")\n",
        "print(\"-----------------------------------------------\")\n",
        "for mahasiswa in data_mahasiswa:\n",
        "    print(f\"{mahasiswa[0]} | {mahasiswa[1]} | {mahasiswa[2]} | {mahasiswa[3]} | {mahasiswa[4]:.2f} | {mahasiswa[5]}\")\n",
        "\n"
      ],
      "metadata": {
        "colab": {
          "base_uri": "https://localhost:8080/"
        },
        "id": "lYlmllp1bTtp",
        "outputId": "a47678bc-586b-4e98-c79e-48788b3160ac"
      },
      "execution_count": 32,
      "outputs": [
        {
          "output_type": "stream",
          "name": "stdout",
          "text": [
            "Masukkan jumlah mahasiswa: 5\n",
            "\n",
            "Data untuk mahasiswa ke-1\n",
            "Nama: Lee Jeno\n",
            "Nilai praktikum (0-100): 85\n",
            "Nilai UTS (0-100): 87\n",
            "Nilai UAS (0-100): 90\n",
            "\n",
            "Data untuk mahasiswa ke-2\n",
            "Nama: Jeon Wonwoo\n",
            "Nilai praktikum (0-100): 89\n",
            "Nilai UTS (0-100): 98\n",
            "Nilai UAS (0-100): 99\n",
            "\n",
            "Data untuk mahasiswa ke-3\n",
            "Nama: Kim Mingyu\n",
            "Nilai praktikum (0-100): 80\n",
            "Nilai UTS (0-100): 87\n",
            "Nilai UAS (0-100): 87\n",
            "\n",
            "Data untuk mahasiswa ke-4\n",
            "Nama: Jake Sim \n",
            "Nilai praktikum (0-100): 90\n",
            "Nilai UTS (0-100): 90\n",
            "Nilai UAS (0-100): 95\n",
            "\n",
            "Data untuk mahasiswa ke-5\n",
            "Nama: Bayu \n",
            "Nilai praktikum (0-100): 89\n",
            "Nilai UTS (0-100): 90\n",
            "Nilai UAS (0-100): 87\n",
            "\n",
            "Nama | Praktikum | UTS | UAS | Akhir | Indeks\n",
            "-----------------------------------------------\n",
            "Lee Jeno | 85 | 87 | 90 | 87.80 | A\n",
            "Jeon Wonwoo | 89 | 98 | 99 | 96.60 | A\n",
            "Kim Mingyu | 80 | 87 | 87 | 85.60 | A\n",
            "Jake Sim  | 90 | 90 | 95 | 92.00 | A\n",
            "Bayu  | 89 | 90 | 87 | 88.60 | A\n"
          ]
        }
      ]
    }
  ]
}